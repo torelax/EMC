{
 "cells": [
  {
   "cell_type": "code",
   "execution_count": null,
   "metadata": {},
   "outputs": [],
   "source": [
    "import torch as th\n",
    "import torch.nn as nn\n",
    "import torch.functional as F\n",
    "class Actor(nn.module):\n",
    "    def __init__(self, params)\n",
    "        input_shape = params.input_shape\n",
    "        self.fc  = nn.sequential(nn.Linear(input_shape, hidden_dim),\n",
    "                                 F.ReLU(),\n",
    "                                nn.Linear(hidden_dim, hiddent_dim)\n",
    "                                F.ReLU(),\n",
    "                                nn.Linear(hiddent_dim, params.n_actions)\n",
    "                                )\n",
    "\n",
    "    def forward(self, obs):\n",
    "        a = self.fc(obs)\n",
    "        return F.softmax(a)\n",
    "\n",
    "class Critic(nn.module):\n",
    "    def __init__(self, params):\n",
    "        input_shape = params.input_shape\n",
    "        self.fc  = nn.sequential(nn.Linear(input_shape, hidden_dim),\n",
    "                                 F.ReLU(),\n",
    "                                nn.Linear(hidden_dim, hiddent_dim)\n",
    "                                F.ReLU(),\n",
    "                                nn.Linear(hiddent_dim, params.n_actions)\n",
    "                                )\n",
    "\n",
    "    def forward(self, obs):\n",
    "        a = self.fc(obs)\n",
    "        return F.softmax(a)\n",
    "    \n",
    "class CriticV(nn.module):\n",
    "    def __init__(self, params):\n",
    "        input_shape = params.input_shape\n",
    "        self.fc  = nn.Sequential(nn.Linear(input_shape, hidden_dim),\n",
    "                                 F.ReLU(),\n",
    "                                nn.Linear(hidden_dim, hiddent_dim),\n",
    "                                F.ReLU(),\n",
    "                                nn.Linear(hiddent_dim, 1)\n",
    "                                )\n",
    "\n",
    "    def forward(self, obs):\n",
    "        a = self.fc(obs)\n",
    "        return F.softmax(a)\n",
    "\n",
    "\n",
    "class PPO:\n",
    "    def __init__(self, params):\n",
    "        self.actor = Actor(params)\n",
    "        self.critic = Critic(params)\n",
    "        self.actor_optimazer = RMSProp(self.actor.params, lr=params.actor_lr)\n",
    "        self.critic_optimazer = RMSProp(self.critic.params, lr=params.critic_lr)\n",
    "\n",
    "        self.criticV = CriticV(params)\n",
    "\n",
    "        self.target_actor = nn.deepcopy(self.actor)\n",
    "        self.target_critic = nn.deepcopy(self.ctiric)\n",
    "\n",
    "    def update(self, batch):\n",
    "        obs, action, rew, next_obs, done = batch.getdata()\n",
    "        \n",
    "        q = self.critic(obs)\n",
    "        qeval = q.argmax(.. index=action)\n",
    "        qtarget = rew + self.params.gamma * self.target_critic(next_obs) * (1-done)\n",
    "        td_error = qeval - qtarget\n",
    "\n",
    "        critic_loss = (td_error ** 2)\n",
    "        critic_loss.backward()\n",
    "        self.critic_optimazer.step()\n",
    "\n",
    "        v = self.critic(obs)\n",
    "        veval = v.argmax(.. index=action)\n",
    "        vtarget = rew + self.params.gamma * self.target_critic(next_obs) * (1-done)\n",
    "        v_td_error = veval - vtarget\n",
    "\n",
    "        critic_loss = (td_error ** 2)\n",
    "        critic_loss.backward()\n",
    "        self.critic_optimazer.step()\n",
    "        \n",
    "        self.advantage = self.critic(obs) - self.criticV(obs)\n",
    "\n",
    "        old_pi = self.target_actor(obs)\n",
    "        pi = self.target_actor(obs)\n",
    "        log_p = np.log(pi) - np.log(old_pi)\n",
    "        p = np.exp(pi, log_p)\n",
    "\n",
    "        clips = np.clip(p, 1-self.params.eps, 1+self.params.eps) * self.advantage\n",
    "        pi_s = max(self.advantage, clips)\n",
    "\n",
    "        actor_loss = -pi_s\n",
    "        actor_loss.backward()\n",
    "        self.actor_optimazer.step()\n",
    "        \n",
    "\n",
    "\n",
    "\n",
    "    \n"
   ]
  },
  {
   "cell_type": "code",
   "execution_count": 17,
   "metadata": {},
   "outputs": [
    {
     "data": {
      "text/plain": [
       "-1"
      ]
     },
     "execution_count": 17,
     "metadata": {},
     "output_type": "execute_result"
    }
   ],
   "source": [
    "def getvectorofgoal(goal, ranges):\n",
    "    res = []\n",
    "    for i in range(ranges * 2):\n",
    "        res.append((-ranges, -ranges + i))\n",
    "    for i in range(ranges * 2):\n",
    "        res.append((-ranges + i, ranges))\n",
    "    for i in range(ranges * 2):\n",
    "        res.append((ranges, ranges - i))\n",
    "    for i in range(ranges * 2):\n",
    "        res.append((ranges - i, -ranges))\n",
    "    # res.append([(-ranges + i, ranges) for i in range(ranges * 2)])\n",
    "    # res.append([(ranges, ranges - i) for i in range(ranges * 2)])\n",
    "    # res.append([(ranges - i, -ranges) for i in range(ranges * 2)])\n",
    "    return res[goal]\n",
    "\n",
    "(x, y) = getvectorofgoal(15,2)\n",
    "x"
   ]
  },
  {
   "cell_type": "code",
   "execution_count": 5,
   "metadata": {},
   "outputs": [
    {
     "data": {
      "text/plain": [
       "[array([0, 0, 0, 0, 0, 0, 0, 0, 0, 0]), array([1, 1, 1, 1, 1, 1, 1, 1, 1, 1])]"
      ]
     },
     "execution_count": 5,
     "metadata": {},
     "output_type": "execute_result"
    }
   ],
   "source": [
    "a = [[0] * 2 for _ in range(5)]\n",
    "a2 = [0] * 10\n",
    "b = [1] * 10\n",
    "import numpy as np\n",
    "# import numpy\n",
    "c = np.hstack([np.array(a).flatten() , np.array(b)])\n",
    "d = [np.array(a2), np.array(b)]\n",
    "d"
   ]
  },
  {
   "cell_type": "code",
   "execution_count": 31,
   "metadata": {},
   "outputs": [
    {
     "data": {
      "text/plain": [
       "[0, 1, 2, 3]"
      ]
     },
     "execution_count": 31,
     "metadata": {},
     "output_type": "execute_result"
    }
   ],
   "source": [
    "a = []\n",
    "[a.append(i) for i in range(4)]\n",
    "a"
   ]
  },
  {
   "cell_type": "code",
   "execution_count": 1,
   "metadata": {},
   "outputs": [
    {
     "data": {
      "text/plain": [
       "tensor([1])"
      ]
     },
     "execution_count": 1,
     "metadata": {},
     "output_type": "execute_result"
    }
   ],
   "source": [
    "import torch as th\n",
    "a = th.tensor([1])\n",
    "a"
   ]
  },
  {
   "cell_type": "code",
   "execution_count": 3,
   "metadata": {},
   "outputs": [
    {
     "data": {
      "text/plain": [
       "1"
      ]
     },
     "execution_count": 3,
     "metadata": {},
     "output_type": "execute_result"
    }
   ],
   "source": [
    "int(a[0])"
   ]
  }
 ],
 "metadata": {
  "kernelspec": {
   "display_name": "gmix",
   "language": "python",
   "name": "python3"
  },
  "language_info": {
   "codemirror_mode": {
    "name": "ipython",
    "version": 3
   },
   "file_extension": ".py",
   "mimetype": "text/x-python",
   "name": "python",
   "nbconvert_exporter": "python",
   "pygments_lexer": "ipython3",
   "version": "3.7.16"
  },
  "orig_nbformat": 4
 },
 "nbformat": 4,
 "nbformat_minor": 2
}
