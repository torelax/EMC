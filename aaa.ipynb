{
 "cells": [
  {
   "cell_type": "code",
   "execution_count": null,
   "metadata": {},
   "outputs": [],
   "source": [
    "import torch as th\n",
    "import torch.nn as nn\n",
    "import torch.functional as F\n",
    "class Actor(nn.module):\n",
    "    def __init__(self, params)\n",
    "        input_shape = params.input_shape\n",
    "        self.fc  = nn.sequential(nn.Linear(input_shape, hidden_dim),\n",
    "                                 F.ReLU(),\n",
    "                                nn.Linear(hidden_dim, hiddent_dim)\n",
    "                                F.ReLU(),\n",
    "                                nn.Linear(hiddent_dim, params.n_actions)\n",
    "                                )\n",
    "\n",
    "    def forward(self, obs):\n",
    "        a = self.fc(obs)\n",
    "        return F.softmax(a)\n",
    "\n",
    "class Critic(nn.module):\n",
    "    def __init__(self, params):\n",
    "        input_shape = params.input_shape\n",
    "        self.fc  = nn.sequential(nn.Linear(input_shape, hidden_dim),\n",
    "                                 F.ReLU(),\n",
    "                                nn.Linear(hidden_dim, hiddent_dim)\n",
    "                                F.ReLU(),\n",
    "                                nn.Linear(hiddent_dim, params.n_actions)\n",
    "                                )\n",
    "\n",
    "    def forward(self, obs):\n",
    "        a = self.fc(obs)\n",
    "        return F.softmax(a)\n",
    "    \n",
    "class CriticV(nn.module):\n",
    "    def __init__(self, params):\n",
    "        input_shape = params.input_shape\n",
    "        self.fc  = nn.Sequential(nn.Linear(input_shape, hidden_dim),\n",
    "                                 F.ReLU(),\n",
    "                                nn.Linear(hidden_dim, hiddent_dim),\n",
    "                                F.ReLU(),\n",
    "                                nn.Linear(hiddent_dim, 1)\n",
    "                                )\n",
    "\n",
    "    def forward(self, obs):\n",
    "        a = self.fc(obs)\n",
    "        return F.softmax(a)\n",
    "\n",
    "\n",
    "class PPO:\n",
    "    def __init__(self, params):\n",
    "        self.actor = Actor(params)\n",
    "        self.critic = Critic(params)\n",
    "        self.actor_optimazer = RMSProp(self.actor.params, lr=params.actor_lr)\n",
    "        self.critic_optimazer = RMSProp(self.critic.params, lr=params.critic_lr)\n",
    "\n",
    "        self.criticV = CriticV(params)\n",
    "\n",
    "        self.target_actor = nn.deepcopy(self.actor)\n",
    "        self.target_critic = nn.deepcopy(self.ctiric)\n",
    "\n",
    "    def update(self, batch):\n",
    "        obs, action, rew, next_obs, done = batch.getdata()\n",
    "        \n",
    "        q = self.critic(obs)\n",
    "        qeval = q.argmax(.. index=action)\n",
    "        qtarget = rew + self.params.gamma * self.target_critic(next_obs) * (1-done)\n",
    "        td_error = qeval - qtarget\n",
    "\n",
    "        critic_loss = (td_error ** 2)\n",
    "        critic_loss.backward()\n",
    "        self.critic_optimazer.step()\n",
    "\n",
    "        v = self.critic(obs)\n",
    "        veval = v.argmax(.. index=action)\n",
    "        vtarget = rew + self.params.gamma * self.target_critic(next_obs) * (1-done)\n",
    "        v_td_error = veval - vtarget\n",
    "\n",
    "        critic_loss = (td_error ** 2)\n",
    "        critic_loss.backward()\n",
    "        self.critic_optimazer.step()\n",
    "        \n",
    "        self.advantage = self.critic(obs) - self.criticV(obs)\n",
    "\n",
    "        old_pi = self.target_actor(obs)\n",
    "        pi = self.target_actor(obs)\n",
    "        log_p = np.log(pi) - np.log(old_pi)\n",
    "        p = np.exp(pi, log_p)\n",
    "\n",
    "        clips = np.clip(p, 1-self.params.eps, 1+self.params.eps) * self.advantage\n",
    "        pi_s = max(self.advantage, clips)\n",
    "\n",
    "        actor_loss = -pi_s\n",
    "        actor_loss.backward()\n",
    "        self.actor_optimazer.step()\n",
    "        \n",
    "\n",
    "\n",
    "\n",
    "    \n"
   ]
  },
  {
   "cell_type": "code",
   "execution_count": 17,
   "metadata": {},
   "outputs": [
    {
     "data": {
      "text/plain": [
       "-1"
      ]
     },
     "execution_count": 17,
     "metadata": {},
     "output_type": "execute_result"
    }
   ],
   "source": [
    "def getvectorofgoal(goal, ranges):\n",
    "    res = []\n",
    "    for i in range(ranges * 2):\n",
    "        res.append((-ranges, -ranges + i))\n",
    "    for i in range(ranges * 2):\n",
    "        res.append((-ranges + i, ranges))\n",
    "    for i in range(ranges * 2):\n",
    "        res.append((ranges, ranges - i))\n",
    "    for i in range(ranges * 2):\n",
    "        res.append((ranges - i, -ranges))\n",
    "    # res.append([(-ranges + i, ranges) for i in range(ranges * 2)])\n",
    "    # res.append([(ranges, ranges - i) for i in range(ranges * 2)])\n",
    "    # res.append([(ranges - i, -ranges) for i in range(ranges * 2)])\n",
    "    return res[goal]\n",
    "\n",
    "(x, y) = getvectorofgoal(15,2)\n",
    "x"
   ]
  },
  {
   "cell_type": "code",
   "execution_count": 5,
   "metadata": {},
   "outputs": [
    {
     "data": {
      "text/plain": [
       "[array([0, 0, 0, 0, 0, 0, 0, 0, 0, 0]), array([1, 1, 1, 1, 1, 1, 1, 1, 1, 1])]"
      ]
     },
     "execution_count": 5,
     "metadata": {},
     "output_type": "execute_result"
    }
   ],
   "source": [
    "a = [[0] * 2 for _ in range(5)]\n",
    "a2 = [0] * 10\n",
    "b = [1] * 10\n",
    "import numpy as np\n",
    "# import numpy\n",
    "c = np.hstack([np.array(a).flatten() , np.array(b)])\n",
    "d = [np.array(a2), np.array(b)]\n",
    "d"
   ]
  },
  {
   "cell_type": "code",
   "execution_count": 31,
   "metadata": {},
   "outputs": [
    {
     "data": {
      "text/plain": [
       "[0, 1, 2, 3]"
      ]
     },
     "execution_count": 31,
     "metadata": {},
     "output_type": "execute_result"
    }
   ],
   "source": [
    "a = []\n",
    "[a.append(i) for i in range(4)]\n",
    "a"
   ]
  },
  {
   "cell_type": "code",
   "execution_count": 1,
   "metadata": {},
   "outputs": [
    {
     "data": {
      "text/plain": [
       "tensor([1])"
      ]
     },
     "execution_count": 1,
     "metadata": {},
     "output_type": "execute_result"
    }
   ],
   "source": [
    "import torch as th\n",
    "a = th.tensor([1])\n",
    "a"
   ]
  },
  {
   "cell_type": "code",
   "execution_count": 2,
   "metadata": {},
   "outputs": [],
   "source": [
    "import numpy as np\n",
    "import matplotlib.pyplot as plt\n",
    "\n",
    "def pltheatmap(prefix, startepi=1, endepi=1, gap=1, base=100):\n",
    "    endepi = startepi if endepi < startepi else endepi\n",
    "    path = prefix + str(startepi * gap * base) + '.npy'\n",
    "    depthmap = np.load(path)\n",
    "    for i in range(startepi+1, endepi+1):\n",
    "        p = prefix + str(i * gap * base) + '.npy'\n",
    "        d = np.load(p)\n",
    "        depthmap += d\n",
    "    plt.subplot(1,2,1)\n",
    "    plt.imshow(depthmap[0])\n",
    "    plt.subplot(1,2,2)\n",
    "    plt.imshow(depthmap[1])\n",
    "    plt.show()"
   ]
  },
  {
   "cell_type": "code",
   "execution_count": null,
   "metadata": {},
   "outputs": [],
   "source": [
    "depthmap = np.load('./pymarl/results/tb_logs/gridworld/wall4/EMC_hlevel__2023-07-09_01-32-53/heat_map_1100.npy')    #使用numpy载入npy文件\n",
    "plt.imshow(depthmap[1])              #执行这一行后并不会立即看到图像，这一行更像是将depthmap载入到plt里\n",
    "# plt.colorbar()                   #添加colorbar\n",
    "# plt.savefig('depthmap.jpg')       #执行后可以将文件保存为jpg格式图像，可以双击直接查看。也可以不执行这一行，直接执行下一行命令进行可视化。但是如果要使用命令行将其保存，则需要将这行代码置于下一行代码之前，不然保存的图像是空白的\n",
    "plt.show()                        #在线显示图像\n",
    "\n",
    "#若要将图像存为灰度图，可以执行如下两行代码\n",
    "# import scipy.misc\n",
    "# scipy.misc.imsave(\"depth.png\", depthmap)"
   ]
  },
  {
   "cell_type": "code",
   "execution_count": 35,
   "metadata": {},
   "outputs": [
    {
     "data": {
      "image/png": "[encoded data removed]",
      "text/plain": [
       "<Figure size 432x288 with 2 Axes>"
      ]
     },
     "metadata": {
      "needs_background": "light"
     },
     "output_type": "display_data"
    }
   ],
   "source": [
    "prefix = f'./pymarl/results/tb_logs/gridworld/wall4/EMC_hlevel__2023-07-09_01-32-53/heat_map_'\n",
    "pltheatmap(prefix, 5)"
   ]
  },
  {
   "cell_type": "code",
   "execution_count": 5,
   "metadata": {},
   "outputs": [
    {
     "data": {
      "image/png": "[encoded data removed]",
      "text/plain": [
       "<Figure size 432x288 with 2 Axes>"
      ]
     },
     "metadata": {
      "needs_background": "light"
     },
     "output_type": "display_data"
    }
   ],
   "source": [
    "prefix = './pymarl/results/tb_logs/gridworld/wall4/EMC_hlevel__2023-07-11_00-56-41/heat_map_'\n",
    "pltheatmap(prefix, 5, 9)"
   ]
  }
 ],
 "metadata": {
  "kernelspec": {
   "display_name": "gmix",
   "language": "python",
   "name": "python3"
  },
  "language_info": {
   "codemirror_mode": {
    "name": "ipython",
    "version": 3
   },
   "file_extension": ".py",
   "mimetype": "text/x-python",
   "name": "python",
   "nbconvert_exporter": "python",
   "pygments_lexer": "ipython3",
   "version": "3.7.16"
  },
  "orig_nbformat": 4
 },
 "nbformat": 4,
 "nbformat_minor": 2
}
