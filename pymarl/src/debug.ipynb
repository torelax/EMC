{
 "cells": [
  {
   "cell_type": "code",
   "execution_count": 1,
   "metadata": {},
   "outputs": [
    {
     "name": "stdout",
     "output_type": "stream",
     "text": [
      "pygame 2.1.3 (SDL 2.0.22, Python 3.7.0)\n",
      "Hello from the pygame community. https://www.pygame.org/contribute.html\n"
     ]
    },
    {
     "name": "stderr",
     "output_type": "stream",
     "text": [
      "[DEBUG 17:27:28] git.cmd Popen(['git', 'version'], cwd=/home/hellone/Project/ReinforcementLearning/EpisodicCuriosity/EMC/pymarl/src, universal_newlines=False, shell=None, istream=None)\n",
      "[DEBUG 17:27:28] git.cmd Popen(['git', 'version'], cwd=/home/hellone/Project/ReinforcementLearning/EpisodicCuriosity/EMC/pymarl/src, universal_newlines=False, shell=None, istream=None)\n",
      "[DEBUG 17:27:28] git.cmd Popen(['git', 'diff', '--cached', '--abbrev=40', '--full-index', '--raw'], cwd=/home/hellone/Project/ReinforcementLearning/EpisodicCuriosity/EMC, universal_newlines=False, shell=None, istream=None)\n",
      "[DEBUG 17:27:28] git.cmd Popen(['git', 'diff', '--abbrev=40', '--full-index', '--raw'], cwd=/home/hellone/Project/ReinforcementLearning/EpisodicCuriosity/EMC, universal_newlines=False, shell=None, istream=None)\n",
      "[DEBUG 17:27:28] git.cmd Popen(['git', 'cat-file', '--batch-check'], cwd=/home/hellone/Project/ReinforcementLearning/EpisodicCuriosity/EMC, universal_newlines=False, shell=None, istream=<valid stream>)\n",
      "[DEBUG 17:27:28] git.cmd Popen(['git', 'diff', '--cached', '--abbrev=40', '--full-index', '--raw'], cwd=/home/hellone/Project/ReinforcementLearning/EpisodicCuriosity/EMC, universal_newlines=False, shell=None, istream=None)\n",
      "[DEBUG 17:27:28] git.cmd Popen(['git', 'diff', '--abbrev=40', '--full-index', '--raw'], cwd=/home/hellone/Project/ReinforcementLearning/EpisodicCuriosity/EMC, universal_newlines=False, shell=None, istream=None)\n",
      "[DEBUG 17:27:28] git.cmd Popen(['git', 'cat-file', '--batch-check'], cwd=/home/hellone/Project/ReinforcementLearning/EpisodicCuriosity/EMC, universal_newlines=False, shell=None, istream=<valid stream>)\n",
      "[DEBUG 17:27:28] git.cmd Popen(['git', 'diff', '--cached', '--abbrev=40', '--full-index', '--raw'], cwd=/home/hellone/Project/ReinforcementLearning/EpisodicCuriosity/EMC, universal_newlines=False, shell=None, istream=None)\n",
      "[DEBUG 17:27:28] git.cmd Popen(['git', 'diff', '--abbrev=40', '--full-index', '--raw'], cwd=/home/hellone/Project/ReinforcementLearning/EpisodicCuriosity/EMC, universal_newlines=False, shell=None, istream=None)\n",
      "[DEBUG 17:27:28] git.cmd Popen(['git', 'cat-file', '--batch-check'], cwd=/home/hellone/Project/ReinforcementLearning/EpisodicCuriosity/EMC, universal_newlines=False, shell=None, istream=<valid stream>)\n",
      "[DEBUG 17:27:28] git.cmd Popen(['git', 'diff', '--cached', '--abbrev=40', '--full-index', '--raw'], cwd=/home/hellone/Project/ReinforcementLearning/EpisodicCuriosity/EMC, universal_newlines=False, shell=None, istream=None)\n",
      "[DEBUG 17:27:28] git.cmd Popen(['git', 'diff', '--abbrev=40', '--full-index', '--raw'], cwd=/home/hellone/Project/ReinforcementLearning/EpisodicCuriosity/EMC, universal_newlines=False, shell=None, istream=None)\n",
      "[DEBUG 17:27:28] git.cmd Popen(['git', 'cat-file', '--batch-check'], cwd=/home/hellone/Project/ReinforcementLearning/EpisodicCuriosity/EMC, universal_newlines=False, shell=None, istream=<valid stream>)\n",
      "[DEBUG 17:27:28] git.cmd Popen(['git', 'diff', '--cached', '--abbrev=40', '--full-index', '--raw'], cwd=/home/hellone/Project/ReinforcementLearning/EpisodicCuriosity/EMC, universal_newlines=False, shell=None, istream=None)\n",
      "[DEBUG 17:27:28] git.cmd Popen(['git', 'diff', '--abbrev=40', '--full-index', '--raw'], cwd=/home/hellone/Project/ReinforcementLearning/EpisodicCuriosity/EMC, universal_newlines=False, shell=None, istream=None)\n",
      "[DEBUG 17:27:28] git.cmd Popen(['git', 'cat-file', '--batch-check'], cwd=/home/hellone/Project/ReinforcementLearning/EpisodicCuriosity/EMC, universal_newlines=False, shell=None, istream=<valid stream>)\n",
      "[DEBUG 17:27:28] git.cmd Popen(['git', 'diff', '--cached', '--abbrev=40', '--full-index', '--raw'], cwd=/home/hellone/Project/ReinforcementLearning/EpisodicCuriosity/EMC, universal_newlines=False, shell=None, istream=None)\n",
      "[DEBUG 17:27:28] git.cmd Popen(['git', 'diff', '--abbrev=40', '--full-index', '--raw'], cwd=/home/hellone/Project/ReinforcementLearning/EpisodicCuriosity/EMC, universal_newlines=False, shell=None, istream=None)\n",
      "[DEBUG 17:27:28] git.cmd Popen(['git', 'cat-file', '--batch-check'], cwd=/home/hellone/Project/ReinforcementLearning/EpisodicCuriosity/EMC, universal_newlines=False, shell=None, istream=<valid stream>)\n"
     ]
    }
   ],
   "source": [
    "from unittest.util import _count_diff_hashable\n",
    "import numpy as np\n",
    "import os\n",
    "import collections\n",
    "from os.path import dirname, abspath\n",
    "from copy import deepcopy\n",
    "from sacred import Experiment, SETTINGS\n",
    "from sacred.observers import FileStorageObserver\n",
    "from sacred.utils import apply_backspaces_and_linefeeds\n",
    "import sys\n",
    "import torch as th\n",
    "from utils.logging import get_logger\n",
    "import yaml\n",
    "\n",
    "from run import run\n",
    "\n",
    "from run import args_sanity_check\n",
    "from types import SimpleNamespace as SN\n",
    "\n",
    "from learners import REGISTRY as le_REGISTRY\n",
    "from runners import REGISTRY as r_REGISTRY\n",
    "from controllers import REGISTRY as mac_REGISTRY\n",
    "from components.episode_buffer import ReplayBuffer\n",
    "from components.episode_buffer import Prioritized_ReplayBuffer\n",
    "\n",
    "from envs import REGISTRY as env_REGISTRY\n",
    "from functools import partial\n",
    "\n",
    "from components.episodic_memory_buffer import Episodic_memory_buffer\n",
    "from components.transforms import OneHot\n",
    "\n",
    "\n",
    "SETTINGS['CAPTURE_MODE'] = \"fd\" # set to \"no\" if you want to see stdout/stderr in console\n",
    "logger = get_logger()\n",
    "\n",
    "ex = Experiment('pymarl', interactive=True)\n",
    "ex.logger = logger\n",
    "ex.captured_out_filter = apply_backspaces_and_linefeeds"
   ]
  },
  {
   "cell_type": "code",
   "execution_count": 2,
   "metadata": {},
   "outputs": [],
   "source": [
    "__file__ = '/home/hellone/Project/ReinforcementLearning/EpisodicCuriosity/EMC/pymarl/src/'\n",
    "results_path = os.path.join(dirname(dirname(abspath('/home/hellone/Project/ReinforcementLearning/EpisodicCuriosity/EMC/pymarl/src/'))), \"results_debug\")"
   ]
  },
  {
   "cell_type": "code",
   "execution_count": 3,
   "metadata": {},
   "outputs": [
    {
     "data": {
      "text/plain": [
       "['debug.py',\n",
       " '--config=EMC_toygame',\n",
       " '--env-config=gridworld_reversed',\n",
       " 'with',\n",
       " 'env_args.map_name=reversed']"
      ]
     },
     "execution_count": 3,
     "metadata": {},
     "output_type": "execute_result"
    }
   ],
   "source": [
    "argvs = ['debug.py', '--config=EMC_toygame', '--env-config=gridworld_reversed', 'with', 'env_args.map_name=reversed']\n",
    "params = deepcopy(argvs)\n",
    "params"
   ]
  },
  {
   "cell_type": "code",
   "execution_count": 4,
   "metadata": {},
   "outputs": [],
   "source": [
    "def _get_config_env(params, arg_name, subfolder):\n",
    "    config_name = None\n",
    "    for _i, _v in enumerate(params):\n",
    "        if _v.split(\"=\")[0] == arg_name:\n",
    "            config_name = _v.split(\"=\")[1]\n",
    "            del params[_i]\n",
    "            break\n",
    "\n",
    "    if config_name is not None:\n",
    "        with open(os.path.join(os.path.dirname(__file__), \"config\", subfolder, \"{}.yaml\".format(config_name)), \"r\") as f:\n",
    "            try:\n",
    "                config_dict = yaml.load(f)\n",
    "            except yaml.YAMLError as exc:\n",
    "                assert False, \"{}.yaml error: {}\".format(config_name, exc)\n",
    "        return config_dict\n",
    "\n",
    "def _get_config_alg(params, arg_name, subfolder,map_name):\n",
    "    config_name = None\n",
    "    for _i, _v in enumerate(params):\n",
    "        if _v.split(\"=\")[0] == arg_name:\n",
    "            config_name = _v.split(\"=\")[1]\n",
    "            del params[_i]\n",
    "            break\n",
    "\n",
    "    if map_name==\"3s5z_vs_3s6z\":\n",
    "        config_name=\"EMC_sc2_3s5z_vs_3s6z\"\n",
    "    elif map_name==\"6h_vs_8z\":\n",
    "        config_name=\"EMC_sc2_6h_vs_8z\"\n",
    "    elif map_name==\"corridor\":\n",
    "        config_name=\"EMC_sc2_corridor\"\n",
    "    elif map_name==\"origin\":\n",
    "        config_name=\"EMC_toygame\"\n",
    "    elif map_name==\"reversed\":\n",
    "        config_name=\"EMC_toygame\"\n",
    "\n",
    "\n",
    "    \n",
    "\n",
    "    if config_name is not None:\n",
    "        with open(os.path.join(os.path.dirname(__file__), \"config\", subfolder, \"{}.yaml\".format(config_name)), \"r\") as f:\n",
    "            try:\n",
    "                config_dict = yaml.load(f)\n",
    "            except yaml.YAMLError as exc:\n",
    "                assert False, \"{}.yaml error: {}\".format(config_name, exc)\n",
    "        return config_dict\n",
    "\n",
    "\n",
    "def recursive_dict_update(d, u):\n",
    "    for k, v in u.items():\n",
    "        if isinstance(v, collections.Mapping):\n",
    "            d[k] = recursive_dict_update(d.get(k, {}), v)\n",
    "        else:\n",
    "            d[k] = v\n",
    "    return d\n",
    "\n",
    "\n",
    "def config_copy(config):\n",
    "    if isinstance(config, dict):\n",
    "        return {k: config_copy(v) for k, v in config.items()}\n",
    "    elif isinstance(config, list):\n",
    "        return [config_copy(v) for v in config]\n",
    "    else:\n",
    "        return deepcopy(config)"
   ]
  },
  {
   "cell_type": "code",
   "execution_count": 5,
   "metadata": {},
   "outputs": [
    {
     "name": "stdout",
     "output_type": "stream",
     "text": [
      "Map Name: reversed\n"
     ]
    },
    {
     "name": "stderr",
     "output_type": "stream",
     "text": [
      "/home/hellone/Project/ReinforcementLearning/EpisodicCuriosity/EMC/pymarl/src/:50: DeprecationWarning: Using or importing the ABCs from 'collections' instead of from 'collections.abc' is deprecated, and in 3.8 it will stop working\n"
     ]
    }
   ],
   "source": [
    "with open(os.path.join(os.path.dirname(__file__), \"config\", \"default.yaml\"), \"r\") as f:\n",
    "    try:\n",
    "        config_dict = yaml.load(f)\n",
    "    except yaml.YAMLError as exc:\n",
    "        assert False, \"default.yaml error: {}\".format(exc)\n",
    "\n",
    "env_config= _get_config_env(params, \"--env-config\", \"envs\")\n",
    "config_dict = recursive_dict_update(config_dict, env_config)\n",
    "map_name=\"3m\"\n",
    "for _i, _v in enumerate(params):\n",
    "    if _v.split(\"=\")[0] == \"env_args.map_name\":\n",
    "        map_name = _v.split(\"=\")[1]\n",
    "\n",
    "print(\"Map Name:\",map_name)\n",
    "alg_config = _get_config_alg(params, \"--config\", \"algs\",map_name)\n",
    "# config_dict = {**config_dict, **env_config, **alg_config}\n",
    "\n",
    "config_dict = recursive_dict_update(config_dict, alg_config)"
   ]
  },
  {
   "cell_type": "code",
   "execution_count": 6,
   "metadata": {},
   "outputs": [],
   "source": [
    "config_dict['seed'] = 427095566"
   ]
  },
  {
   "cell_type": "code",
   "execution_count": 7,
   "metadata": {},
   "outputs": [],
   "source": [
    "config = config_copy(config_dict)\n",
    "np.random.seed(config[\"seed\"])\n",
    "th.manual_seed(config[\"seed\"])\n",
    "config['env_args']['seed'] = config[\"seed\"]"
   ]
  },
  {
   "cell_type": "code",
   "execution_count": 8,
   "metadata": {},
   "outputs": [],
   "source": [
    "args = SN(**config)\n",
    "args.use_cuda = False\n",
    "args.device = \"cuda\" if args.use_cuda else \"cpu\"\n",
    "set_device = os.getenv('SET_DEVICE')\n",
    "if args.use_cuda and set_device != '-1':\n",
    "    if set_device is None:\n",
    "        args.device = \"cuda\"\n",
    "    else:\n",
    "        args.device = f\"cuda:{set_device}\"\n",
    "else:\n",
    "    args.device = \"cpu\""
   ]
  },
  {
   "cell_type": "code",
   "execution_count": 9,
   "metadata": {},
   "outputs": [],
   "source": [
    "args.buffer_cpu_only = True"
   ]
  },
  {
   "cell_type": "code",
   "execution_count": 10,
   "metadata": {},
   "outputs": [
    {
     "name": "stdout",
     "output_type": "stream",
     "text": [
      "{'state': {'vshape': 92}, 'obs': {'vshape': 46, 'group': 'agents'}, 'actions': {'vshape': (1,), 'group': 'agents', 'dtype': torch.int64}, 'avail_actions': {'vshape': (5,), 'group': 'agents', 'dtype': torch.int32}, 'reward': {'vshape': (1,)}, 'terminated': {'vshape': (1,), 'dtype': torch.uint8}}\n"
     ]
    }
   ],
   "source": [
    "    # Init runner so we can get env info\n",
    "runner = r_REGISTRY[args.runner](args=args, logger=logger)\n",
    "\n",
    "# Set up schemes and groups here\n",
    "env_info = runner.get_env_info()\n",
    "args.episode_limit = env_info[\"episode_limit\"]\n",
    "args.n_agents = env_info[\"n_agents\"]\n",
    "args.n_actions = env_info[\"n_actions\"]\n",
    "args.state_shape = env_info[\"state_shape\"]\n",
    "args.unit_dim = env_info[\"unit_dim\"]\n",
    "\n",
    "# Default/Base scheme\n",
    "scheme = {\n",
    "    \"state\": {\"vshape\": env_info[\"state_shape\"]},\n",
    "    \"obs\": {\"vshape\": env_info[\"obs_shape\"], \"group\": \"agents\"},\n",
    "    \"actions\": {\"vshape\": (1,), \"group\": \"agents\", \"dtype\": th.long},\n",
    "    \"avail_actions\": {\"vshape\": (env_info[\"n_actions\"],), \"group\": \"agents\", \"dtype\": th.int},\n",
    "    \"reward\": {\"vshape\": (1,)},\n",
    "    \"terminated\": {\"vshape\": (1,), \"dtype\": th.uint8},\n",
    "}\n",
    "groups = {\n",
    "    \"agents\": args.n_agents\n",
    "}\n",
    "preprocess = {\n",
    "    \"actions\": (\"actions_onehot\", [OneHot(out_dim=args.n_actions)])\n",
    "}\n",
    "\n",
    "env_name = args.env\n",
    "\n",
    "print(scheme)\n"
   ]
  },
  {
   "cell_type": "code",
   "execution_count": 11,
   "metadata": {},
   "outputs": [],
   "source": [
    "buffer = Prioritized_ReplayBuffer(scheme, groups, args.buffer_size, env_info[\"episode_limit\"] + 1,\n",
    "                                        args.prioritized_buffer_alpha,\n",
    "                                        preprocess=preprocess,\n",
    "                                        device=\"cpu\" if args.buffer_cpu_only else args.device)\n",
    "ec_buffer=Episodic_memory_buffer(args,scheme)\n",
    "mac = mac_REGISTRY[args.mac](buffer.scheme, groups, args)\n",
    "# Give runner the scheme\n",
    "# runner = episode\n",
    "runner.setup(scheme=scheme, groups=groups, preprocess=preprocess, mac=mac)\n",
    "# Learner\n",
    "learner = le_REGISTRY[args.learner](mac, buffer.scheme, logger, args, groups=groups)"
   ]
  },
  {
   "cell_type": "code",
   "execution_count": 12,
   "metadata": {},
   "outputs": [],
   "source": [
    "args.gener_goal_interval = 2"
   ]
  },
  {
   "cell_type": "code",
   "execution_count": 14,
   "metadata": {},
   "outputs": [
    {
     "ename": "KeyError",
     "evalue": "'goal not found in transition or episode data'",
     "output_type": "error",
     "traceback": [
      "\u001b[0;31m---------------------------------------------------------------------------\u001b[0m",
      "\u001b[0;31mKeyError\u001b[0m                                  Traceback (most recent call last)",
      "\u001b[0;32m~/Project/ReinforcementLearning/EpisodicCuriosity/EMC/pymarl/src/\u001b[0m in \u001b[0;36m<module>\u001b[0;34m\u001b[0m\n\u001b[0;32m----> 1\u001b[0;31m \u001b[0mepisode_batch\u001b[0m \u001b[0;34m=\u001b[0m \u001b[0mrunner\u001b[0m\u001b[0;34m.\u001b[0m\u001b[0mrun\u001b[0m\u001b[0;34m(\u001b[0m\u001b[0mtest_mode\u001b[0m\u001b[0;34m=\u001b[0m\u001b[0;32mFalse\u001b[0m\u001b[0;34m)\u001b[0m\u001b[0;34m\u001b[0m\u001b[0m\n\u001b[0m",
      "\u001b[0;32m~/Project/ReinforcementLearning/EpisodicCuriosity/EMC/pymarl/src/runners/episode_runner.py\u001b[0m in \u001b[0;36mrun\u001b[0;34m(self, test_mode)\u001b[0m\n\u001b[1;32m     84\u001b[0m             }\n\u001b[1;32m     85\u001b[0m \u001b[0;34m\u001b[0m\u001b[0m\n\u001b[0;32m---> 86\u001b[0;31m             \u001b[0mself\u001b[0m\u001b[0;34m.\u001b[0m\u001b[0mbatch\u001b[0m\u001b[0;34m.\u001b[0m\u001b[0mupdate\u001b[0m\u001b[0;34m(\u001b[0m\u001b[0mpre_transition_data\u001b[0m\u001b[0;34m,\u001b[0m \u001b[0mts\u001b[0m\u001b[0;34m=\u001b[0m\u001b[0mself\u001b[0m\u001b[0;34m.\u001b[0m\u001b[0mt\u001b[0m\u001b[0;34m)\u001b[0m\u001b[0;34m\u001b[0m\u001b[0m\n\u001b[0m\u001b[1;32m     87\u001b[0m \u001b[0;34m\u001b[0m\u001b[0m\n\u001b[1;32m     88\u001b[0m             \u001b[0;31m# Pass the entire batch of experiences up till now to the agents\u001b[0m\u001b[0;34m\u001b[0m\u001b[0;34m\u001b[0m\u001b[0m\n",
      "\u001b[0;32m~/Project/ReinforcementLearning/EpisodicCuriosity/EMC/pymarl/src/components/episode_buffer.py\u001b[0m in \u001b[0;36mupdate\u001b[0;34m(self, data, bs, ts, mark_filled)\u001b[0m\n\u001b[1;32m    100\u001b[0m                 \u001b[0m_slices\u001b[0m \u001b[0;34m=\u001b[0m \u001b[0mslices\u001b[0m\u001b[0;34m[\u001b[0m\u001b[0;36m0\u001b[0m\u001b[0;34m]\u001b[0m\u001b[0;34m\u001b[0m\u001b[0m\n\u001b[1;32m    101\u001b[0m             \u001b[0;32melse\u001b[0m\u001b[0;34m:\u001b[0m\u001b[0;34m\u001b[0m\u001b[0m\n\u001b[0;32m--> 102\u001b[0;31m                 \u001b[0;32mraise\u001b[0m \u001b[0mKeyError\u001b[0m\u001b[0;34m(\u001b[0m\u001b[0;34m\"{} not found in transition or episode data\"\u001b[0m\u001b[0;34m.\u001b[0m\u001b[0mformat\u001b[0m\u001b[0;34m(\u001b[0m\u001b[0mk\u001b[0m\u001b[0;34m)\u001b[0m\u001b[0;34m)\u001b[0m\u001b[0;34m\u001b[0m\u001b[0m\n\u001b[0m\u001b[1;32m    103\u001b[0m \u001b[0;34m\u001b[0m\u001b[0m\n\u001b[1;32m    104\u001b[0m             \u001b[0mdtype\u001b[0m \u001b[0;34m=\u001b[0m \u001b[0mself\u001b[0m\u001b[0;34m.\u001b[0m\u001b[0mscheme\u001b[0m\u001b[0;34m[\u001b[0m\u001b[0mk\u001b[0m\u001b[0;34m]\u001b[0m\u001b[0;34m.\u001b[0m\u001b[0mget\u001b[0m\u001b[0;34m(\u001b[0m\u001b[0;34m\"dtype\"\u001b[0m\u001b[0;34m,\u001b[0m \u001b[0mth\u001b[0m\u001b[0;34m.\u001b[0m\u001b[0mfloat32\u001b[0m\u001b[0;34m)\u001b[0m\u001b[0;34m\u001b[0m\u001b[0m\n",
      "\u001b[0;31mKeyError\u001b[0m: 'goal not found in transition or episode data'"
     ]
    }
   ],
   "source": [
    "episode_batch = runner.run(test_mode=False)"
   ]
  },
  {
   "cell_type": "code",
   "execution_count": null,
   "metadata": {},
   "outputs": [],
   "source": [
    "@ex.main\n",
    "def my_main(_run, _config, _log):\n",
    "    # Setting the random seed throughout the modules\n",
    "    config = config_copy(_config)\n",
    "    np.random.seed(config[\"seed\"])\n",
    "    th.manual_seed(config[\"seed\"])\n",
    "    config['env_args']['seed'] = config[\"seed\"]\n",
    "\n",
    "    # print(_run, '\\n\\n', config, '\\n\\n', _log)\n",
    "    # run(_run, config, _log)\n",
    "\n",
    "    print(config)\n",
    "    # _config = args_sanity_check(config, _log)\n",
    "\n",
    "    # args = SN(**_config)\n",
    "\n",
    "ex.add_config(config_dict)\n",
    "file_obs_path = os.path.join(results_path, \"sacred\")\n",
    "ex.observers.append(FileStorageObserver.create(file_obs_path))\n",
    "ex.run_commandline(params)"
   ]
  },
  {
   "cell_type": "code",
   "execution_count": 1,
   "metadata": {},
   "outputs": [],
   "source": [
    "data = {\n",
    "    \"first\": [1, 2 ,3],\n",
    "    \"second\": [4, 5, 6],\n",
    "}"
   ]
  },
  {
   "cell_type": "code",
   "execution_count": 5,
   "metadata": {},
   "outputs": [
    {
     "data": {
      "text/plain": [
       "dict_items([('first', [1, 2, 3]), ('second', [4, 5, 6])])"
      ]
     },
     "execution_count": 5,
     "metadata": {},
     "output_type": "execute_result"
    }
   ],
   "source": [
    "data.items()"
   ]
  },
  {
   "cell_type": "code",
   "execution_count": 4,
   "metadata": {},
   "outputs": [
    {
     "name": "stdout",
     "output_type": "stream",
     "text": [
      "first \t [1, 2, 3]\n",
      "second \t [4, 5, 6]\n"
     ]
    }
   ],
   "source": [
    "for k , v in data.items():\n",
    "# data.items()\n",
    "    print(k, '\\t', v)"
   ]
  },
  {
   "cell_type": "code",
   "execution_count": null,
   "metadata": {},
   "outputs": [],
   "source": [
    "from envs import REGISTRY as env_REGISTRY\n",
    "from functools import partial"
   ]
  },
  {
   "cell_type": "code",
   "execution_count": 51,
   "metadata": {},
   "outputs": [],
   "source": [
    "class stu:\n",
    "    def __init__(self) -> None:\n",
    "        self.__mess = 6\n",
    "        self.__name = 1\n",
    "\n",
    "    @property\n",
    "    def mess(self):\n",
    "        return self.__mess\n",
    "    \n",
    "    @property\n",
    "    def name(self):\n",
    "        return self.__name"
   ]
  },
  {
   "cell_type": "code",
   "execution_count": 52,
   "metadata": {},
   "outputs": [],
   "source": [
    "a = stu()"
   ]
  },
  {
   "cell_type": "code",
   "execution_count": 53,
   "metadata": {},
   "outputs": [
    {
     "ename": "AttributeError",
     "evalue": "'stu' object has no attribute '_name'",
     "output_type": "error",
     "traceback": [
      "\u001b[0;31m---------------------------------------------------------------------------\u001b[0m",
      "\u001b[0;31mAttributeError\u001b[0m                            Traceback (most recent call last)",
      "\u001b[0;32m/tmp/ipykernel_22922/1129004406.py\u001b[0m in \u001b[0;36m<module>\u001b[0;34m\u001b[0m\n\u001b[0;32m----> 1\u001b[0;31m \u001b[0ma\u001b[0m\u001b[0;34m.\u001b[0m\u001b[0m_name\u001b[0m\u001b[0;34m\u001b[0m\u001b[0m\n\u001b[0m",
      "\u001b[0;31mAttributeError\u001b[0m: 'stu' object has no attribute '_name'"
     ]
    }
   ],
   "source": [
    "a._name"
   ]
  },
  {
   "cell_type": "code",
   "execution_count": 34,
   "metadata": {},
   "outputs": [
    {
     "data": {
      "text/plain": [
       "1"
      ]
     },
     "execution_count": 34,
     "metadata": {},
     "output_type": "execute_result"
    }
   ],
   "source": [
    "a.name"
   ]
  },
  {
   "cell_type": "code",
   "execution_count": 35,
   "metadata": {},
   "outputs": [
    {
     "data": {
      "text/plain": [
       "2"
      ]
     },
     "execution_count": 35,
     "metadata": {},
     "output_type": "execute_result"
    }
   ],
   "source": [
    "a._name = 2\n",
    "a.name"
   ]
  }
 ],
 "metadata": {
  "kernelspec": {
   "display_name": "emc",
   "language": "python",
   "name": "python3"
  },
  "language_info": {
   "codemirror_mode": {
    "name": "ipython",
    "version": 3
   },
   "file_extension": ".py",
   "mimetype": "text/x-python",
   "name": "python",
   "nbconvert_exporter": "python",
   "pygments_lexer": "ipython3",
   "version": "3.7.0"
  },
  "orig_nbformat": 4
 },
 "nbformat": 4,
 "nbformat_minor": 2
}
