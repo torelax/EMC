{
 "cells": [
  {
   "cell_type": "code",
   "execution_count": 2,
   "metadata": {},
   "outputs": [
    {
     "name": "stdout",
     "output_type": "stream",
     "text": [
      "pygame 2.3.0 (SDL 2.24.2, Python 3.7.16)\n",
      "Hello from the pygame community. https://www.pygame.org/contribute.html\n"
     ]
    },
    {
     "name": "stderr",
     "output_type": "stream",
     "text": [
      "[DEBUG 17:13:36] git.cmd Popen(['git', 'version'], cwd=/home/hellone/Project/emc/pymarl/src, universal_newlines=False, shell=None, istream=None)\n",
      "[DEBUG 17:13:36] git.cmd Popen(['git', 'version'], cwd=/home/hellone/Project/emc/pymarl/src, universal_newlines=False, shell=None, istream=None)\n",
      "[DEBUG 17:13:36] git.util Failed checking if running in CYGWIN due to: FileNotFoundError(2, \"No such file or directory: '/usr/bin/uname'\")\n",
      "[DEBUG 17:13:36] git.cmd Popen(['git', 'diff', '--cached', '--abbrev=40', '--full-index', '--raw'], cwd=/home/hellone/Project/emc, universal_newlines=False, shell=None, istream=None)\n",
      "[DEBUG 17:13:36] git.cmd Popen(['git', 'diff', '--abbrev=40', '--full-index', '--raw'], cwd=/home/hellone/Project/emc, universal_newlines=False, shell=None, istream=None)\n",
      "[DEBUG 17:13:36] git.cmd Popen(['git', 'cat-file', '--batch-check'], cwd=/home/hellone/Project/emc, universal_newlines=False, shell=None, istream=<valid stream>)\n",
      "[DEBUG 17:13:36] git.cmd Popen(['git', 'diff', '--cached', '--abbrev=40', '--full-index', '--raw'], cwd=/home/hellone/Project/emc, universal_newlines=False, shell=None, istream=None)\n",
      "[DEBUG 17:13:36] git.cmd Popen(['git', 'diff', '--abbrev=40', '--full-index', '--raw'], cwd=/home/hellone/Project/emc, universal_newlines=False, shell=None, istream=None)\n",
      "[DEBUG 17:13:36] git.cmd Popen(['git', 'cat-file', '--batch-check'], cwd=/home/hellone/Project/emc, universal_newlines=False, shell=None, istream=<valid stream>)\n",
      "[DEBUG 17:13:36] git.cmd Popen(['git', 'diff', '--cached', '--abbrev=40', '--full-index', '--raw'], cwd=/home/hellone/Project/emc, universal_newlines=False, shell=None, istream=None)\n",
      "[DEBUG 17:13:36] git.cmd Popen(['git', 'diff', '--abbrev=40', '--full-index', '--raw'], cwd=/home/hellone/Project/emc, universal_newlines=False, shell=None, istream=None)\n",
      "[DEBUG 17:13:36] git.cmd Popen(['git', 'cat-file', '--batch-check'], cwd=/home/hellone/Project/emc, universal_newlines=False, shell=None, istream=<valid stream>)\n",
      "[DEBUG 17:13:36] git.cmd Popen(['git', 'diff', '--cached', '--abbrev=40', '--full-index', '--raw'], cwd=/home/hellone/Project/emc, universal_newlines=False, shell=None, istream=None)\n",
      "[DEBUG 17:13:36] git.cmd Popen(['git', 'diff', '--abbrev=40', '--full-index', '--raw'], cwd=/home/hellone/Project/emc, universal_newlines=False, shell=None, istream=None)\n",
      "[DEBUG 17:13:36] git.cmd Popen(['git', 'cat-file', '--batch-check'], cwd=/home/hellone/Project/emc, universal_newlines=False, shell=None, istream=<valid stream>)\n",
      "[DEBUG 17:13:36] git.cmd Popen(['git', 'diff', '--cached', '--abbrev=40', '--full-index', '--raw'], cwd=/home/hellone/Project/emc, universal_newlines=False, shell=None, istream=None)\n",
      "[DEBUG 17:13:36] git.cmd Popen(['git', 'diff', '--abbrev=40', '--full-index', '--raw'], cwd=/home/hellone/Project/emc, universal_newlines=False, shell=None, istream=None)\n",
      "[DEBUG 17:13:36] git.cmd Popen(['git', 'cat-file', '--batch-check'], cwd=/home/hellone/Project/emc, universal_newlines=False, shell=None, istream=<valid stream>)\n",
      "[DEBUG 17:13:36] git.cmd Popen(['git', 'diff', '--cached', '--abbrev=40', '--full-index', '--raw'], cwd=/home/hellone/Project/emc, universal_newlines=False, shell=None, istream=None)\n",
      "[DEBUG 17:13:36] git.cmd Popen(['git', 'diff', '--abbrev=40', '--full-index', '--raw'], cwd=/home/hellone/Project/emc, universal_newlines=False, shell=None, istream=None)\n",
      "[DEBUG 17:13:36] git.cmd Popen(['git', 'cat-file', '--batch-check'], cwd=/home/hellone/Project/emc, universal_newlines=False, shell=None, istream=<valid stream>)\n"
     ]
    }
   ],
   "source": [
    "from unittest.util import _count_diff_hashable\n",
    "import numpy as np\n",
    "import os\n",
    "import collections\n",
    "from os.path import dirname, abspath\n",
    "from copy import deepcopy\n",
    "from sacred import Experiment, SETTINGS\n",
    "from sacred.observers import FileStorageObserver\n",
    "from sacred.utils import apply_backspaces_and_linefeeds\n",
    "import sys\n",
    "import torch as th\n",
    "from utils.logging import get_logger\n",
    "import yaml\n",
    "\n",
    "from run import run\n",
    "\n",
    "from run import args_sanity_check\n",
    "from types import SimpleNamespace as SN\n",
    "\n",
    "from learners import REGISTRY as le_REGISTRY\n",
    "from runners import REGISTRY as r_REGISTRY\n",
    "from controllers import REGISTRY as mac_REGISTRY\n",
    "from components.episode_buffer import ReplayBuffer\n",
    "from components.episode_buffer import Prioritized_ReplayBuffer\n",
    "\n",
    "from envs import REGISTRY as env_REGISTRY\n",
    "from functools import partial\n",
    "\n",
    "from components.episodic_memory_buffer import Episodic_memory_buffer\n",
    "from components.transforms import OneHot\n",
    "\n",
    "\n",
    "SETTINGS['CAPTURE_MODE'] = \"fd\" # set to \"no\" if you want to see stdout/stderr in console\n",
    "logger = get_logger()\n",
    "\n",
    "ex = Experiment('pymarl', interactive=True)\n",
    "ex.logger = logger\n",
    "ex.captured_out_filter = apply_backspaces_and_linefeeds"
   ]
  },
  {
   "cell_type": "code",
   "execution_count": 2,
   "metadata": {},
   "outputs": [],
   "source": [
    "__file__ = '/home/hellone/Project/ReinforcementLearning/EpisodicCuriosity/EMC/pymarl/src/'\n",
    "results_path = os.path.join(dirname(dirname(abspath('/home/hellone/Project/ReinforcementLearning/EpisodicCuriosity/EMC/pymarl/src/'))), \"results_debug\")"
   ]
  },
  {
   "cell_type": "code",
   "execution_count": 3,
   "metadata": {},
   "outputs": [
    {
     "data": {
      "text/plain": [
       "['debug.py',\n",
       " '--config=EMC_toygame',\n",
       " '--env-config=gridworld_reversed',\n",
       " 'with',\n",
       " 'env_args.map_name=reversed']"
      ]
     },
     "execution_count": 3,
     "metadata": {},
     "output_type": "execute_result"
    }
   ],
   "source": [
    "argvs = ['debug.py', '--config=EMC_toygame', '--env-config=gridworld_reversed', 'with', 'env_args.map_name=reversed']\n",
    "params = deepcopy(argvs)\n",
    "params"
   ]
  },
  {
   "cell_type": "code",
   "execution_count": 4,
   "metadata": {},
   "outputs": [],
   "source": [
    "def _get_config_env(params, arg_name, subfolder):\n",
    "    config_name = None\n",
    "    for _i, _v in enumerate(params):\n",
    "        if _v.split(\"=\")[0] == arg_name:\n",
    "            config_name = _v.split(\"=\")[1]\n",
    "            del params[_i]\n",
    "            break\n",
    "\n",
    "    if config_name is not None:\n",
    "        with open(os.path.join(os.path.dirname(__file__), \"config\", subfolder, \"{}.yaml\".format(config_name)), \"r\") as f:\n",
    "            try:\n",
    "                config_dict = yaml.load(f)\n",
    "            except yaml.YAMLError as exc:\n",
    "                assert False, \"{}.yaml error: {}\".format(config_name, exc)\n",
    "        return config_dict\n",
    "\n",
    "def _get_config_alg(params, arg_name, subfolder,map_name):\n",
    "    config_name = None\n",
    "    for _i, _v in enumerate(params):\n",
    "        if _v.split(\"=\")[0] == arg_name:\n",
    "            config_name = _v.split(\"=\")[1]\n",
    "            del params[_i]\n",
    "            break\n",
    "\n",
    "    if map_name==\"3s5z_vs_3s6z\":\n",
    "        config_name=\"EMC_sc2_3s5z_vs_3s6z\"\n",
    "    elif map_name==\"6h_vs_8z\":\n",
    "        config_name=\"EMC_sc2_6h_vs_8z\"\n",
    "    elif map_name==\"corridor\":\n",
    "        config_name=\"EMC_sc2_corridor\"\n",
    "    elif map_name==\"origin\":\n",
    "        config_name=\"EMC_toygame\"\n",
    "    elif map_name==\"reversed\":\n",
    "        config_name=\"EMC_toygame\"\n",
    "\n",
    "\n",
    "    \n",
    "\n",
    "    if config_name is not None:\n",
    "        with open(os.path.join(os.path.dirname(__file__), \"config\", subfolder, \"{}.yaml\".format(config_name)), \"r\") as f:\n",
    "            try:\n",
    "                config_dict = yaml.load(f)\n",
    "            except yaml.YAMLError as exc:\n",
    "                assert False, \"{}.yaml error: {}\".format(config_name, exc)\n",
    "        return config_dict\n",
    "\n",
    "\n",
    "def recursive_dict_update(d, u):\n",
    "    for k, v in u.items():\n",
    "        if isinstance(v, collections.Mapping):\n",
    "            d[k] = recursive_dict_update(d.get(k, {}), v)\n",
    "        else:\n",
    "            d[k] = v\n",
    "    return d\n",
    "\n",
    "\n",
    "def config_copy(config):\n",
    "    if isinstance(config, dict):\n",
    "        return {k: config_copy(v) for k, v in config.items()}\n",
    "    elif isinstance(config, list):\n",
    "        return [config_copy(v) for v in config]\n",
    "    else:\n",
    "        return deepcopy(config)"
   ]
  },
  {
   "cell_type": "code",
   "execution_count": 5,
   "metadata": {},
   "outputs": [
    {
     "name": "stdout",
     "output_type": "stream",
     "text": [
      "Map Name: reversed\n"
     ]
    },
    {
     "name": "stderr",
     "output_type": "stream",
     "text": [
      "/home/hellone/Project/ReinforcementLearning/EpisodicCuriosity/EMC/pymarl/src/:50: DeprecationWarning: Using or importing the ABCs from 'collections' instead of from 'collections.abc' is deprecated, and in 3.8 it will stop working\n"
     ]
    }
   ],
   "source": [
    "with open(os.path.join(os.path.dirname(__file__), \"config\", \"default.yaml\"), \"r\") as f:\n",
    "    try:\n",
    "        config_dict = yaml.load(f)\n",
    "    except yaml.YAMLError as exc:\n",
    "        assert False, \"default.yaml error: {}\".format(exc)\n",
    "\n",
    "env_config= _get_config_env(params, \"--env-config\", \"envs\")\n",
    "config_dict = recursive_dict_update(config_dict, env_config)\n",
    "map_name=\"3m\"\n",
    "for _i, _v in enumerate(params):\n",
    "    if _v.split(\"=\")[0] == \"env_args.map_name\":\n",
    "        map_name = _v.split(\"=\")[1]\n",
    "\n",
    "print(\"Map Name:\",map_name)\n",
    "alg_config = _get_config_alg(params, \"--config\", \"algs\",map_name)\n",
    "# config_dict = {**config_dict, **env_config, **alg_config}\n",
    "\n",
    "config_dict = recursive_dict_update(config_dict, alg_config)"
   ]
  },
  {
   "cell_type": "code",
   "execution_count": 6,
   "metadata": {},
   "outputs": [],
   "source": [
    "config_dict['seed'] = 427095566"
   ]
  },
  {
   "cell_type": "code",
   "execution_count": 7,
   "metadata": {},
   "outputs": [],
   "source": [
    "config = config_copy(config_dict)\n",
    "np.random.seed(config[\"seed\"])\n",
    "th.manual_seed(config[\"seed\"])\n",
    "config['env_args']['seed'] = config[\"seed\"]"
   ]
  },
  {
   "cell_type": "code",
   "execution_count": 8,
   "metadata": {},
   "outputs": [],
   "source": [
    "args = SN(**config)\n",
    "args.use_cuda = False\n",
    "args.device = \"cuda\" if args.use_cuda else \"cpu\"\n",
    "set_device = os.getenv('SET_DEVICE')\n",
    "if args.use_cuda and set_device != '-1':\n",
    "    if set_device is None:\n",
    "        args.device = \"cuda\"\n",
    "    else:\n",
    "        args.device = f\"cuda:{set_device}\"\n",
    "else:\n",
    "    args.device = \"cpu\""
   ]
  },
  {
   "cell_type": "code",
   "execution_count": 9,
   "metadata": {},
   "outputs": [],
   "source": [
    "args.buffer_cpu_only = True"
   ]
  },
  {
   "cell_type": "code",
   "execution_count": 10,
   "metadata": {},
   "outputs": [
    {
     "name": "stdout",
     "output_type": "stream",
     "text": [
      "{'state': {'vshape': 92}, 'obs': {'vshape': 46, 'group': 'agents'}, 'actions': {'vshape': (1,), 'group': 'agents', 'dtype': torch.int64}, 'avail_actions': {'vshape': (5,), 'group': 'agents', 'dtype': torch.int32}, 'reward': {'vshape': (1,)}, 'terminated': {'vshape': (1,), 'dtype': torch.uint8}}\n"
     ]
    }
   ],
   "source": [
    "    # Init runner so we can get env info\n",
    "runner = r_REGISTRY[args.runner](args=args, logger=logger)\n",
    "\n",
    "# Set up schemes and groups here\n",
    "env_info = runner.get_env_info()\n",
    "args.episode_limit = env_info[\"episode_limit\"]\n",
    "args.n_agents = env_info[\"n_agents\"]\n",
    "args.n_actions = env_info[\"n_actions\"]\n",
    "args.state_shape = env_info[\"state_shape\"]\n",
    "args.unit_dim = env_info[\"unit_dim\"]\n",
    "\n",
    "# Default/Base scheme\n",
    "scheme = {\n",
    "    \"state\": {\"vshape\": env_info[\"state_shape\"]},\n",
    "    \"obs\": {\"vshape\": env_info[\"obs_shape\"], \"group\": \"agents\"},\n",
    "    \"actions\": {\"vshape\": (1,), \"group\": \"agents\", \"dtype\": th.long},\n",
    "    \"avail_actions\": {\"vshape\": (env_info[\"n_actions\"],), \"group\": \"agents\", \"dtype\": th.int},\n",
    "    \"reward\": {\"vshape\": (1,)},\n",
    "    \"terminated\": {\"vshape\": (1,), \"dtype\": th.uint8},\n",
    "}\n",
    "groups = {\n",
    "    \"agents\": args.n_agents\n",
    "}\n",
    "preprocess = {\n",
    "    \"actions\": (\"actions_onehot\", [OneHot(out_dim=args.n_actions)])\n",
    "}\n",
    "\n",
    "env_name = args.env\n",
    "\n",
    "print(scheme)\n"
   ]
  },
  {
   "cell_type": "code",
   "execution_count": 11,
   "metadata": {},
   "outputs": [],
   "source": [
    "buffer = Prioritized_ReplayBuffer(scheme, groups, args.buffer_size, env_info[\"episode_limit\"] + 1,\n",
    "                                        args.prioritized_buffer_alpha,\n",
    "                                        preprocess=preprocess,\n",
    "                                        device=\"cpu\" if args.buffer_cpu_only else args.device)\n",
    "ec_buffer=Episodic_memory_buffer(args,scheme)\n",
    "mac = mac_REGISTRY[args.mac](buffer.scheme, groups, args)\n",
    "# Give runner the scheme\n",
    "# runner = episode\n",
    "runner.setup(scheme=scheme, groups=groups, preprocess=preprocess, mac=mac)\n",
    "# Learner\n",
    "learner = le_REGISTRY[args.learner](mac, buffer.scheme, logger, args, groups=groups)"
   ]
  },
  {
   "cell_type": "code",
   "execution_count": 12,
   "metadata": {},
   "outputs": [],
   "source": [
    "args.gener_goal_interval = 2"
   ]
  },
  {
   "cell_type": "code",
   "execution_count": 13,
   "metadata": {},
   "outputs": [],
   "source": [
    "if hasattr(args, \"save_buffer\") and args.save_buffer:\n",
    "    learner.buffer = buffer\n",
    "\n",
    "if args.use_cuda:\n",
    "    learner.cuda()\n",
    "\n",
    "\n",
    "# start training\n",
    "episode = 0\n",
    "last_test_T = -args.test_interval - 1\n",
    "last_log_T = 0\n",
    "model_save_time = 0"
   ]
  },
  {
   "cell_type": "code",
   "execution_count": null,
   "metadata": {},
   "outputs": [],
   "source": [
    "getattr(args, \"use_emdqn\", False)"
   ]
  },
  {
   "cell_type": "code",
   "execution_count": 27,
   "metadata": {},
   "outputs": [
    {
     "name": "stderr",
     "output_type": "stream",
     "text": [
      "/home/hellone/Project/ReinforcementLearning/EpisodicCuriosity/EMC/pymarl/src/components/episode_buffer.py:105: UserWarning: To copy construct from a tensor, it is recommended to use sourceTensor.clone().detach() or sourceTensor.clone().detach().requires_grad_(True), rather than torch.tensor(sourceTensor).\n",
      "  v = th.tensor(v, dtype=dtype, device=self.device)\n"
     ]
    }
   ],
   "source": [
    "episode_batch = runner.run(test_mode=False)"
   ]
  },
  {
   "cell_type": "code",
   "execution_count": 47,
   "metadata": {},
   "outputs": [
    {
     "name": "stderr",
     "output_type": "stream",
     "text": [
      "/home/hellone/Project/ReinforcementLearning/EpisodicCuriosity/EMC/pymarl/src/components/episode_buffer.py:105: UserWarning: To copy construct from a tensor, it is recommended to use sourceTensor.clone().detach() or sourceTensor.clone().detach().requires_grad_(True), rather than torch.tensor(sourceTensor).\n",
      "  v = th.tensor(v, dtype=dtype, device=self.device)\n"
     ]
    }
   ],
   "source": [
    "buffer.insert_episode_batch(episode_batch)"
   ]
  },
  {
   "cell_type": "code",
   "execution_count": 52,
   "metadata": {},
   "outputs": [
    {
     "name": "stdout",
     "output_type": "stream",
     "text": [
      "False\n",
      "True\n",
      "q\n",
      "False\n",
      "64\n",
      "n_actions:  5\n"
     ]
    }
   ],
   "source": [
    "print(args.is_save_buffer)\n",
    "print(args.is_prioritized_buffer)\n",
    "print(args.agent_output_type)\n",
    "print(hasattr(args, 'use_individual_Q') and args.use_individual_Q)\n",
    "print(args.rnn_hidden_dim)\n",
    "print('n_actions: ', args.n_actions)"
   ]
  },
  {
   "cell_type": "code",
   "execution_count": 53,
   "metadata": {},
   "outputs": [],
   "source": [
    "actions = mac.select_actions(episode_batch, t_ep=0, t_env=0, test_mode=False)"
   ]
  },
  {
   "cell_type": "code",
   "execution_count": 61,
   "metadata": {},
   "outputs": [],
   "source": [
    "mac_out = mac.forward(episode_batch, 1)"
   ]
  },
  {
   "cell_type": "code",
   "execution_count": 66,
   "metadata": {},
   "outputs": [
    {
     "data": {
      "text/plain": [
       "tensor([[[ 0.0864, -0.1351, -0.0448,  0.1170, -0.1308],\n",
       "         [ 0.0347, -0.1361, -0.0332,  0.0919, -0.1402]]],\n",
       "       grad_fn=<ViewBackward>)"
      ]
     },
     "execution_count": 66,
     "metadata": {},
     "output_type": "execute_result"
    }
   ],
   "source": [
    "# 输出的n=2个智能体的各个动作的Q值\n",
    "mac_out\n",
    "# shape (1,2,5)"
   ]
  },
  {
   "cell_type": "code",
   "execution_count": 63,
   "metadata": {},
   "outputs": [
    {
     "data": {
      "text/plain": [
       "tensor([[1, 2]])"
      ]
     },
     "execution_count": 63,
     "metadata": {},
     "output_type": "execute_result"
    }
   ],
   "source": [
    "actions"
   ]
  },
  {
   "cell_type": "code",
   "execution_count": 68,
   "metadata": {},
   "outputs": [
    {
     "data": {
      "text/plain": [
       "tensor([[[ 0.0864, -0.1351, -0.0448,  0.1170, -0.1308]]],\n",
       "       grad_fn=<SliceBackward>)"
      ]
     },
     "execution_count": 68,
     "metadata": {},
     "output_type": "execute_result"
    }
   ],
   "source": [
    "mac_out[:, :-1]"
   ]
  },
  {
   "cell_type": "code",
   "execution_count": 67,
   "metadata": {},
   "outputs": [
    {
     "ename": "RuntimeError",
     "evalue": "Index tensor must have the same number of dimensions as input tensor",
     "output_type": "error",
     "traceback": [
      "\u001b[0;31m---------------------------------------------------------------------------\u001b[0m",
      "\u001b[0;31mRuntimeError\u001b[0m                              Traceback (most recent call last)",
      "\u001b[0;32m~/Project/ReinforcementLearning/EpisodicCuriosity/EMC/pymarl/src/\u001b[0m in \u001b[0;36m<module>\u001b[0;34m\u001b[0m\n\u001b[0;32m----> 1\u001b[0;31m \u001b[0mchosen_action_qvals\u001b[0m \u001b[0;34m=\u001b[0m \u001b[0mth\u001b[0m\u001b[0;34m.\u001b[0m\u001b[0mgather\u001b[0m\u001b[0;34m(\u001b[0m\u001b[0mmac_out\u001b[0m\u001b[0;34m[\u001b[0m\u001b[0;34m:\u001b[0m\u001b[0;34m,\u001b[0m \u001b[0;34m:\u001b[0m\u001b[0;34m-\u001b[0m\u001b[0;36m1\u001b[0m\u001b[0;34m]\u001b[0m\u001b[0;34m,\u001b[0m \u001b[0mdim\u001b[0m\u001b[0;34m=\u001b[0m\u001b[0;36m1\u001b[0m\u001b[0;34m,\u001b[0m \u001b[0mindex\u001b[0m\u001b[0;34m=\u001b[0m\u001b[0mactions\u001b[0m\u001b[0;34m)\u001b[0m\u001b[0;34m.\u001b[0m\u001b[0msqueeze\u001b[0m\u001b[0;34m(\u001b[0m\u001b[0;36m3\u001b[0m\u001b[0;34m)\u001b[0m\u001b[0;34m\u001b[0m\u001b[0m\n\u001b[0m\u001b[1;32m      2\u001b[0m \u001b[0mchosen_action_qvals\u001b[0m\u001b[0;34m\u001b[0m\u001b[0m\n",
      "\u001b[0;31mRuntimeError\u001b[0m: Index tensor must have the same number of dimensions as input tensor"
     ]
    }
   ],
   "source": [
    "chosen_action_qvals = th.gather(mac_out[:, :-1], dim=2, index=actions).squeeze(3) \n",
    "chosen_action_qvals"
   ]
  },
  {
   "cell_type": "code",
   "execution_count": 46,
   "metadata": {},
   "outputs": [
    {
     "name": "stdout",
     "output_type": "stream",
     "text": [
      "tensor(4) ,\n",
      "tensor(4) ,\n",
      "tensor(4) ,\n",
      "tensor(4) ,\n",
      "tensor(4) ,\n",
      "tensor(3) ,\n",
      "tensor(2) ,\n",
      "tensor(1) ,\n",
      "tensor(4) ,\n",
      "tensor(0) ,\n",
      "tensor(4) ,\n",
      "tensor(4) ,\n",
      "tensor(4) ,\n",
      "tensor(1) ,\n",
      "tensor(0) ,\n",
      "tensor(1) ,\n",
      "tensor(0) ,\n",
      "tensor(1) ,\n",
      "tensor(3) ,\n",
      "tensor(2) ,\n",
      "tensor(0) ,\n",
      "tensor(3) ,\n",
      "tensor(4) ,\n",
      "tensor(1) ,\n",
      "tensor(3) ,\n",
      "tensor(4) ,\n",
      "tensor(3) ,\n",
      "tensor(3) ,\n",
      "tensor(2) ,\n",
      "tensor(2) ,\n",
      "tensor(2) ,\n"
     ]
    }
   ],
   "source": [
    "for i in episode_batch['actions'][0]:\n",
    "    print(i[0][0], ',')\n",
    "# episode_batch['actions'][0][20][0][0]"
   ]
  },
  {
   "cell_type": "code",
   "execution_count": 26,
   "metadata": {},
   "outputs": [
    {
     "data": {
      "text/plain": [
       "1"
      ]
     },
     "execution_count": 26,
     "metadata": {},
     "output_type": "execute_result"
    }
   ],
   "source": [
    "runner.batch_size"
   ]
  },
  {
   "cell_type": "code",
   "execution_count": 22,
   "metadata": {},
   "outputs": [
    {
     "data": {
      "text/plain": [
       "32"
      ]
     },
     "execution_count": 22,
     "metadata": {},
     "output_type": "execute_result"
    }
   ],
   "source": [
    "args.batch_size"
   ]
  },
  {
   "cell_type": "code",
   "execution_count": 19,
   "metadata": {},
   "outputs": [],
   "source": [
    "data = {\n",
    "    \"first\": [1, 2 ,3],\n",
    "    \"second\": [4, 5, 6],\n",
    "}"
   ]
  },
  {
   "cell_type": "code",
   "execution_count": 20,
   "metadata": {},
   "outputs": [
    {
     "data": {
      "text/plain": [
       "dict_items([('first', [1, 2, 3]), ('second', [4, 5, 6])])"
      ]
     },
     "execution_count": 20,
     "metadata": {},
     "output_type": "execute_result"
    }
   ],
   "source": [
    "data.items()"
   ]
  },
  {
   "cell_type": "code",
   "execution_count": 21,
   "metadata": {},
   "outputs": [
    {
     "name": "stdout",
     "output_type": "stream",
     "text": [
      "first \t [1, 2, 3]\n",
      "second \t [4, 5, 6]\n"
     ]
    }
   ],
   "source": [
    "for k , v in data.items():\n",
    "# data.items()\n",
    "    print(k, '\\t', v)"
   ]
  },
  {
   "cell_type": "code",
   "execution_count": null,
   "metadata": {},
   "outputs": [],
   "source": [
    "from envs import REGISTRY as env_REGISTRY\n",
    "from functools import partial"
   ]
  },
  {
   "cell_type": "code",
   "execution_count": null,
   "metadata": {},
   "outputs": [],
   "source": [
    "class stu:\n",
    "    def __init__(self) -> None:\n",
    "        self.__mess = 6\n",
    "        self.__name = 1\n",
    "\n",
    "    @property\n",
    "    def mess(self):\n",
    "        return self.__mess\n",
    "    \n",
    "    @property\n",
    "    def name(self):\n",
    "        return self.__name"
   ]
  },
  {
   "cell_type": "code",
   "execution_count": null,
   "metadata": {},
   "outputs": [],
   "source": [
    "a = stu()"
   ]
  },
  {
   "cell_type": "code",
   "execution_count": null,
   "metadata": {},
   "outputs": [],
   "source": [
    "a._name"
   ]
  },
  {
   "cell_type": "code",
   "execution_count": null,
   "metadata": {},
   "outputs": [],
   "source": [
    "a.name"
   ]
  },
  {
   "cell_type": "code",
   "execution_count": null,
   "metadata": {},
   "outputs": [],
   "source": [
    "a._name = 2\n",
    "a.name"
   ]
  },
  {
   "cell_type": "code",
   "execution_count": 107,
   "metadata": {},
   "outputs": [],
   "source": [
    "x = th.tensor([1,2,3.0], requires_grad=True).float()\n",
    "y = x**2"
   ]
  },
  {
   "cell_type": "code",
   "execution_count": 117,
   "metadata": {},
   "outputs": [],
   "source": [
    "loss = 2*x[1]-1\n",
    "loss2 = 4 * x[1] - 1\n",
    "# loss = 0."
   ]
  },
  {
   "cell_type": "code",
   "execution_count": 112,
   "metadata": {},
   "outputs": [
    {
     "data": {
      "text/plain": [
       "tensor([0., 0., 0.])"
      ]
     },
     "execution_count": 112,
     "metadata": {},
     "output_type": "execute_result"
    }
   ],
   "source": [
    "x.grad.zero_()"
   ]
  },
  {
   "cell_type": "code",
   "execution_count": 121,
   "metadata": {},
   "outputs": [
    {
     "data": {
      "text/plain": [
       "torch.Size([1, 1, 4])"
      ]
     },
     "execution_count": 121,
     "metadata": {},
     "output_type": "execute_result"
    }
   ],
   "source": [
    "th.tensor([[[5,5,5,6]]]).shape"
   ]
  },
  {
   "cell_type": "code",
   "execution_count": 120,
   "metadata": {},
   "outputs": [
    {
     "data": {
      "text/plain": [
       "tensor(3., grad_fn=<SubBackward0>)"
      ]
     },
     "execution_count": 120,
     "metadata": {},
     "output_type": "execute_result"
    }
   ],
   "source": [
    "loss"
   ]
  },
  {
   "cell_type": "code",
   "execution_count": 118,
   "metadata": {},
   "outputs": [],
   "source": [
    "loss.backward()"
   ]
  },
  {
   "cell_type": "code",
   "execution_count": 119,
   "metadata": {},
   "outputs": [
    {
     "data": {
      "text/plain": [
       "tensor([0., 2., 0.])"
      ]
     },
     "execution_count": 119,
     "metadata": {},
     "output_type": "execute_result"
    }
   ],
   "source": [
    "x.grad"
   ]
  },
  {
   "cell_type": "code",
   "execution_count": 25,
   "metadata": {},
   "outputs": [
    {
     "ename": "RuntimeError",
     "evalue": "grad can be implicitly created only for scalar outputs",
     "output_type": "error",
     "traceback": [
      "\u001b[0;31m---------------------------------------------------------------------------\u001b[0m",
      "\u001b[0;31mRuntimeError\u001b[0m                              Traceback (most recent call last)",
      "\u001b[0;32m~/Project/ReinforcementLearning/EpisodicCuriosity/EMC/pymarl/src/\u001b[0m in \u001b[0;36m<module>\u001b[0;34m\u001b[0m\n\u001b[0;32m----> 1\u001b[0;31m \u001b[0my\u001b[0m\u001b[0;34m.\u001b[0m\u001b[0mbackward\u001b[0m\u001b[0;34m(\u001b[0m\u001b[0;34m)\u001b[0m\u001b[0;34m\u001b[0m\u001b[0m\n\u001b[0m",
      "\u001b[0;32m~/Program/miniconda3/envs/emc/lib/python3.7/site-packages/torch/tensor.py\u001b[0m in \u001b[0;36mbackward\u001b[0;34m(self, gradient, retain_graph, create_graph)\u001b[0m\n\u001b[1;32m    183\u001b[0m                 \u001b[0mproducts\u001b[0m\u001b[0;34m.\u001b[0m \u001b[0mDefaults\u001b[0m \u001b[0mto\u001b[0m\u001b[0;31m \u001b[0m\u001b[0;31m`\u001b[0m\u001b[0;31m`\u001b[0m\u001b[0;32mFalse\u001b[0m\u001b[0;31m`\u001b[0m\u001b[0;31m`\u001b[0m\u001b[0;34m.\u001b[0m\u001b[0;34m\u001b[0m\u001b[0m\n\u001b[1;32m    184\u001b[0m         \"\"\"\n\u001b[0;32m--> 185\u001b[0;31m         \u001b[0mtorch\u001b[0m\u001b[0;34m.\u001b[0m\u001b[0mautograd\u001b[0m\u001b[0;34m.\u001b[0m\u001b[0mbackward\u001b[0m\u001b[0;34m(\u001b[0m\u001b[0mself\u001b[0m\u001b[0;34m,\u001b[0m \u001b[0mgradient\u001b[0m\u001b[0;34m,\u001b[0m \u001b[0mretain_graph\u001b[0m\u001b[0;34m,\u001b[0m \u001b[0mcreate_graph\u001b[0m\u001b[0;34m)\u001b[0m\u001b[0;34m\u001b[0m\u001b[0m\n\u001b[0m\u001b[1;32m    186\u001b[0m \u001b[0;34m\u001b[0m\u001b[0m\n\u001b[1;32m    187\u001b[0m     \u001b[0;32mdef\u001b[0m \u001b[0mregister_hook\u001b[0m\u001b[0;34m(\u001b[0m\u001b[0mself\u001b[0m\u001b[0;34m,\u001b[0m \u001b[0mhook\u001b[0m\u001b[0;34m)\u001b[0m\u001b[0;34m:\u001b[0m\u001b[0;34m\u001b[0m\u001b[0m\n",
      "\u001b[0;32m~/Program/miniconda3/envs/emc/lib/python3.7/site-packages/torch/autograd/__init__.py\u001b[0m in \u001b[0;36mbackward\u001b[0;34m(tensors, grad_tensors, retain_graph, create_graph, grad_variables)\u001b[0m\n\u001b[1;32m    119\u001b[0m         \u001b[0mgrad_tensors\u001b[0m \u001b[0;34m=\u001b[0m \u001b[0mlist\u001b[0m\u001b[0;34m(\u001b[0m\u001b[0mgrad_tensors\u001b[0m\u001b[0;34m)\u001b[0m\u001b[0;34m\u001b[0m\u001b[0m\n\u001b[1;32m    120\u001b[0m \u001b[0;34m\u001b[0m\u001b[0m\n\u001b[0;32m--> 121\u001b[0;31m     \u001b[0mgrad_tensors\u001b[0m \u001b[0;34m=\u001b[0m \u001b[0m_make_grads\u001b[0m\u001b[0;34m(\u001b[0m\u001b[0mtensors\u001b[0m\u001b[0;34m,\u001b[0m \u001b[0mgrad_tensors\u001b[0m\u001b[0;34m)\u001b[0m\u001b[0;34m\u001b[0m\u001b[0m\n\u001b[0m\u001b[1;32m    122\u001b[0m     \u001b[0;32mif\u001b[0m \u001b[0mretain_graph\u001b[0m \u001b[0;32mis\u001b[0m \u001b[0;32mNone\u001b[0m\u001b[0;34m:\u001b[0m\u001b[0;34m\u001b[0m\u001b[0m\n\u001b[1;32m    123\u001b[0m         \u001b[0mretain_graph\u001b[0m \u001b[0;34m=\u001b[0m \u001b[0mcreate_graph\u001b[0m\u001b[0;34m\u001b[0m\u001b[0m\n",
      "\u001b[0;32m~/Program/miniconda3/envs/emc/lib/python3.7/site-packages/torch/autograd/__init__.py\u001b[0m in \u001b[0;36m_make_grads\u001b[0;34m(outputs, grads)\u001b[0m\n\u001b[1;32m     45\u001b[0m             \u001b[0;32mif\u001b[0m \u001b[0mout\u001b[0m\u001b[0;34m.\u001b[0m\u001b[0mrequires_grad\u001b[0m\u001b[0;34m:\u001b[0m\u001b[0;34m\u001b[0m\u001b[0m\n\u001b[1;32m     46\u001b[0m                 \u001b[0;32mif\u001b[0m \u001b[0mout\u001b[0m\u001b[0;34m.\u001b[0m\u001b[0mnumel\u001b[0m\u001b[0;34m(\u001b[0m\u001b[0;34m)\u001b[0m \u001b[0;34m!=\u001b[0m \u001b[0;36m1\u001b[0m\u001b[0;34m:\u001b[0m\u001b[0;34m\u001b[0m\u001b[0m\n\u001b[0;32m---> 47\u001b[0;31m                     \u001b[0;32mraise\u001b[0m \u001b[0mRuntimeError\u001b[0m\u001b[0;34m(\u001b[0m\u001b[0;34m\"grad can be implicitly created only for scalar outputs\"\u001b[0m\u001b[0;34m)\u001b[0m\u001b[0;34m\u001b[0m\u001b[0m\n\u001b[0m\u001b[1;32m     48\u001b[0m                 \u001b[0mnew_grads\u001b[0m\u001b[0;34m.\u001b[0m\u001b[0mappend\u001b[0m\u001b[0;34m(\u001b[0m\u001b[0mtorch\u001b[0m\u001b[0;34m.\u001b[0m\u001b[0mones_like\u001b[0m\u001b[0;34m(\u001b[0m\u001b[0mout\u001b[0m\u001b[0;34m,\u001b[0m \u001b[0mmemory_format\u001b[0m\u001b[0;34m=\u001b[0m\u001b[0mtorch\u001b[0m\u001b[0;34m.\u001b[0m\u001b[0mpreserve_format\u001b[0m\u001b[0;34m)\u001b[0m\u001b[0;34m)\u001b[0m\u001b[0;34m\u001b[0m\u001b[0m\n\u001b[1;32m     49\u001b[0m             \u001b[0;32melse\u001b[0m\u001b[0;34m:\u001b[0m\u001b[0;34m\u001b[0m\u001b[0m\n",
      "\u001b[0;31mRuntimeError\u001b[0m: grad can be implicitly created only for scalar outputs"
     ]
    }
   ],
   "source": [
    "y.backward()"
   ]
  },
  {
   "cell_type": "code",
   "execution_count": 24,
   "metadata": {},
   "outputs": [
    {
     "data": {
      "text/plain": [
       "tensor([2., 4., 6.])"
      ]
     },
     "execution_count": 24,
     "metadata": {},
     "output_type": "execute_result"
    }
   ],
   "source": [
    "x.grad"
   ]
  },
  {
   "cell_type": "code",
   "execution_count": 12,
   "metadata": {},
   "outputs": [],
   "source": [
    "x = th.tensor([[[1,2,3],[4,5,6]]])\n",
    "a = th.randn((1,31,2,46))"
   ]
  },
  {
   "cell_type": "code",
   "execution_count": 15,
   "metadata": {},
   "outputs": [
    {
     "data": {
      "text/plain": [
       "torch.Size([1, 2, 46])"
      ]
     },
     "execution_count": 15,
     "metadata": {},
     "output_type": "execute_result"
    }
   ],
   "source": [
    "b = a[:,1]\n",
    "b.shape"
   ]
  },
  {
   "cell_type": "code",
   "execution_count": 27,
   "metadata": {},
   "outputs": [
    {
     "data": {
      "text/plain": [
       "torch.Size([2, 1, 46])"
      ]
     },
     "execution_count": 27,
     "metadata": {},
     "output_type": "execute_result"
    }
   ],
   "source": [
    "c = th.cat([_.reshape(2, 1, -1) for _ in b], dim = 2)\n",
    "c.shape"
   ]
  },
  {
   "cell_type": "code",
   "execution_count": 23,
   "metadata": {},
   "outputs": [
    {
     "name": "stdout",
     "output_type": "stream",
     "text": [
      "torch.Size([2, 46])\n",
      "torch.Size([2, 1, 46])\n"
     ]
    }
   ],
   "source": [
    "for i in b:\n",
    "    print(i.shape)\n",
    "    print(i.reshape(2,1,-1).shape)"
   ]
  },
  {
   "cell_type": "code",
   "execution_count": 20,
   "metadata": {},
   "outputs": [
    {
     "data": {
      "text/plain": [
       "[tensor([[[-1.3974,  0.9128,  0.9448,  1.1784, -0.1011, -1.9543, -0.8169,\n",
       "           -0.8084, -0.1665,  0.1685, -1.5195, -0.1413,  0.8248,  1.8848,\n",
       "            0.6537,  0.4770, -0.1100, -0.4075, -0.8264,  1.4410,  1.1888,\n",
       "            0.8314,  0.4867, -0.5320, -0.5498, -0.6408, -0.1479, -0.3711,\n",
       "            1.2912,  0.2493, -0.0408, -1.3887, -1.0742, -0.3676, -0.2206,\n",
       "           -0.2998, -0.4120,  2.1785, -0.3528,  2.2399,  0.7986,  0.4189,\n",
       "            0.3701, -0.4737, -0.3823, -1.6351]],\n",
       " \n",
       "         [[-0.3844, -1.0168, -0.5389, -1.0042,  0.5496,  1.4545, -0.9078,\n",
       "            0.2225, -0.8199,  2.0154, -0.7226, -0.5918,  0.4451,  0.5402,\n",
       "           -1.1657,  0.5409,  2.6998,  1.0856, -1.1007,  0.6558, -2.2412,\n",
       "            1.1272, -2.3806,  2.3751, -1.4456, -0.0570,  0.3554,  0.4483,\n",
       "           -0.4134, -1.3400, -1.2609,  0.9387,  0.1290, -0.3728,  0.3171,\n",
       "            0.7606, -0.7222,  1.8649,  0.3903,  0.9736,  0.0995,  0.3403,\n",
       "           -0.1093, -0.6419, -0.0509,  0.9853]]])]"
      ]
     },
     "execution_count": 20,
     "metadata": {},
     "output_type": "execute_result"
    }
   ],
   "source": [
    "z = [_.reshape(2, 1, -1) for _ in b]\n",
    "z"
   ]
  },
  {
   "cell_type": "code",
   "execution_count": 30,
   "metadata": {},
   "outputs": [],
   "source": [
    "v = th.randn((1,1,46))\n",
    "dest = th.randn(1,1,92)"
   ]
  },
  {
   "cell_type": "code",
   "execution_count": 31,
   "metadata": {},
   "outputs": [
    {
     "ename": "ValueError",
     "evalue": "Unsafe reshape of torch.Size([1, 1, 46]) to torch.Size([1, 1, 92])",
     "output_type": "error",
     "traceback": [
      "\u001b[1;31m---------------------------------------------------------------------------\u001b[0m",
      "\u001b[1;31mValueError\u001b[0m                                Traceback (most recent call last)",
      "Cell \u001b[1;32mIn[31], line 5\u001b[0m\n\u001b[0;32m      3\u001b[0m \u001b[39mif\u001b[39;00m v\u001b[39m.\u001b[39mshape[idx] \u001b[39m!=\u001b[39m s:\n\u001b[0;32m      4\u001b[0m     \u001b[39mif\u001b[39;00m s \u001b[39m!=\u001b[39m \u001b[39m1\u001b[39m:\n\u001b[1;32m----> 5\u001b[0m         \u001b[39mraise\u001b[39;00m \u001b[39mValueError\u001b[39;00m(\u001b[39m\"\u001b[39m\u001b[39mUnsafe reshape of \u001b[39m\u001b[39m{}\u001b[39;00m\u001b[39m to \u001b[39m\u001b[39m{}\u001b[39;00m\u001b[39m\"\u001b[39m\u001b[39m.\u001b[39mformat(v\u001b[39m.\u001b[39mshape, dest\u001b[39m.\u001b[39mshape))\n\u001b[0;32m      6\u001b[0m \u001b[39melse\u001b[39;00m:\n\u001b[0;32m      7\u001b[0m     idx \u001b[39m-\u001b[39m\u001b[39m=\u001b[39m \u001b[39m1\u001b[39m\n",
      "\u001b[1;31mValueError\u001b[0m: Unsafe reshape of torch.Size([1, 1, 46]) to torch.Size([1, 1, 92])"
     ]
    }
   ],
   "source": [
    "idx = len(v.shape) - 1\n",
    "for s in dest.shape[::-1]:\n",
    "    if v.shape[idx] != s:\n",
    "        if s != 1:\n",
    "            raise ValueError(\"Unsafe reshape of {} to {}\".format(v.shape, dest.shape))\n",
    "    else:\n",
    "        idx -= 1"
   ]
  },
  {
   "cell_type": "code",
   "execution_count": 14,
   "metadata": {},
   "outputs": [
    {
     "data": {
      "text/plain": [
       "torch.Size([3, 5, 9])"
      ]
     },
     "execution_count": 14,
     "metadata": {},
     "output_type": "execute_result"
    }
   ],
   "source": [
    "g = th.randn((3,5,4))\n",
    "m = th.randn((3,5,5))\n",
    "\n",
    "o = th.cat([g, m], dim=-1)\n",
    "o.shape"
   ]
  },
  {
   "cell_type": "code",
   "execution_count": 15,
   "metadata": {},
   "outputs": [
    {
     "data": {
      "text/plain": [
       "tensor([[[ 1.0280, -1.3871, -0.6722,  0.2010],\n",
       "         [ 2.2553, -0.4990, -0.6995, -0.3495],\n",
       "         [-0.2049, -0.3213,  0.2025,  0.2779],\n",
       "         [-2.2110, -0.8507,  0.2646,  0.8108],\n",
       "         [ 0.5326, -1.1670, -0.9495,  1.5615]],\n",
       "\n",
       "        [[-0.2686, -1.7691,  0.6596, -0.0980],\n",
       "         [ 0.7310, -0.7556,  0.0057,  0.1665],\n",
       "         [-0.6148, -1.0748, -1.0956, -2.6119],\n",
       "         [ 0.9488, -0.1117, -0.2040,  0.5007],\n",
       "         [ 0.8175,  3.0204,  0.6222, -0.1982]],\n",
       "\n",
       "        [[ 1.5877,  0.0244, -1.0106, -2.1215],\n",
       "         [-0.6011,  1.6328,  1.6232, -0.2276],\n",
       "         [-0.1663,  0.9752, -0.3509, -0.7005],\n",
       "         [ 0.9254,  0.7500, -1.1478,  1.2592],\n",
       "         [ 1.5677,  0.2073, -0.2870,  0.2015]]])"
      ]
     },
     "execution_count": 15,
     "metadata": {},
     "output_type": "execute_result"
    }
   ],
   "source": [
    "g"
   ]
  },
  {
   "cell_type": "code",
   "execution_count": 17,
   "metadata": {},
   "outputs": [
    {
     "data": {
      "text/plain": [
       "tensor([[[ 1.0280, -1.3871, -0.6722,  0.2010],\n",
       "         [ 2.2553, -0.4990, -0.6995, -0.3495],\n",
       "         [-0.2049, -0.3213,  0.2025,  0.2779],\n",
       "         [-2.2110, -0.8507,  0.2646,  0.8108],\n",
       "         [ 0.5326, -1.1670, -0.9495,  1.5615]],\n",
       "\n",
       "        [[-0.2686, -1.7691,  0.6596, -0.0980],\n",
       "         [ 0.7310, -0.7556,  0.0057,  0.1665],\n",
       "         [-0.6148, -1.0748, -1.0956, -2.6119],\n",
       "         [ 0.9488, -0.1117, -0.2040,  0.5007],\n",
       "         [ 0.8175,  3.0204,  0.6222, -0.1982]],\n",
       "\n",
       "        [[ 1.5877,  0.0244, -1.0106, -2.1215],\n",
       "         [-0.6011,  1.6328,  1.6232, -0.2276],\n",
       "         [-0.1663,  0.9752, -0.3509, -0.7005],\n",
       "         [ 0.9254,  0.7500, -1.1478,  1.2592],\n",
       "         [ 1.5677,  0.2073, -0.2870,  0.2015]]])"
      ]
     },
     "execution_count": 17,
     "metadata": {},
     "output_type": "execute_result"
    }
   ],
   "source": [
    "gg = g.reshape(15,4).reshape(3,5,4)\n",
    "gg"
   ]
  },
  {
   "cell_type": "code",
   "execution_count": 8,
   "metadata": {},
   "outputs": [
    {
     "data": {
      "text/plain": [
       "torch.return_types.max(\n",
       "values=tensor([[1.7202],\n",
       "        [0.4227],\n",
       "        [0.7932]]),\n",
       "indices=tensor([[2],\n",
       "        [2],\n",
       "        [2]]))"
      ]
     },
     "execution_count": 8,
     "metadata": {},
     "output_type": "execute_result"
    }
   ],
   "source": [
    "th.max(g, dim=-1)"
   ]
  },
  {
   "cell_type": "code",
   "execution_count": 2,
   "metadata": {},
   "outputs": [],
   "source": [
    "c = th.randn((2,2))\n",
    "# c[1,] = th.argmax(g[1,])"
   ]
  },
  {
   "cell_type": "code",
   "execution_count": 80,
   "metadata": {},
   "outputs": [],
   "source": [
    "oo = th.cat([th.max(o[:,1,:3],-1)[1], th.max(o[:,1,3:8],-1)[1]], dim=-1)"
   ]
  },
  {
   "cell_type": "code",
   "execution_count": 82,
   "metadata": {},
   "outputs": [
    {
     "data": {
      "text/plain": [
       "torch.Size([3])"
      ]
     },
     "execution_count": 82,
     "metadata": {},
     "output_type": "execute_result"
    }
   ],
   "source": [
    "th.max(o[:,1,:3],-1)[1].shape"
   ]
  },
  {
   "cell_type": "code",
   "execution_count": 7,
   "metadata": {},
   "outputs": [
    {
     "data": {
      "text/plain": [
       "tensor([[[0., 0., 0., 0., 0., 0., 0., 0., 0., 0., 0., 0., 0., 0., 0., 0., 0., 0., 0., 0., 0., 0., 0.,\n",
       "          0., 0., 0., 0., 0., 0., 0., 0., 0., 0., 0., 0., 0., 0., 0., 0., 0., 0., 0., 0., 0., 0., 0.]]])"
      ]
     },
     "execution_count": 7,
     "metadata": {},
     "output_type": "execute_result"
    }
   ],
   "source": [
    "ts = th.zeros((1,1,46))\n",
    "ts"
   ]
  },
  {
   "cell_type": "code",
   "execution_count": 4,
   "metadata": {},
   "outputs": [
    {
     "data": {
      "text/plain": [
       "tensor([[ 0.1384, -1.1889],\n",
       "        [-0.9080,  0.0974]])"
      ]
     },
     "execution_count": 4,
     "metadata": {},
     "output_type": "execute_result"
    }
   ],
   "source": [
    "c"
   ]
  },
  {
   "cell_type": "code",
   "execution_count": 6,
   "metadata": {},
   "outputs": [],
   "source": [
    "import torch.nn.functional as F"
   ]
  },
  {
   "cell_type": "code",
   "execution_count": 47,
   "metadata": {},
   "outputs": [
    {
     "data": {
      "text/plain": [
       "torch.Size([2])"
      ]
     },
     "execution_count": 47,
     "metadata": {},
     "output_type": "execute_result"
    }
   ],
   "source": [
    "a = th.tensor([[1., 2.],[3., 4.]])\n",
    "m = th.mean(a, 1)\n",
    "m.shape"
   ]
  },
  {
   "cell_type": "code",
   "execution_count": 60,
   "metadata": {},
   "outputs": [
    {
     "data": {
      "text/plain": [
       "tensor([[[-3.7337]],\n",
       "\n",
       "        [[ 1.0963]],\n",
       "\n",
       "        [[ 0.9674]],\n",
       "\n",
       "        [[ 3.3269]],\n",
       "\n",
       "        [[-1.0490]],\n",
       "\n",
       "        [[ 2.6757]],\n",
       "\n",
       "        [[-2.0014]],\n",
       "\n",
       "        [[ 0.0713]],\n",
       "\n",
       "        [[-2.2090]],\n",
       "\n",
       "        [[-2.0173]],\n",
       "\n",
       "        [[ 3.2781]],\n",
       "\n",
       "        [[ 0.1343]],\n",
       "\n",
       "        [[-0.9378]],\n",
       "\n",
       "        [[-0.1153]],\n",
       "\n",
       "        [[-0.8183]],\n",
       "\n",
       "        [[-2.6410]],\n",
       "\n",
       "        [[ 0.8053]],\n",
       "\n",
       "        [[ 4.0464]],\n",
       "\n",
       "        [[ 0.0970]],\n",
       "\n",
       "        [[-0.3055]],\n",
       "\n",
       "        [[-1.5841]],\n",
       "\n",
       "        [[-2.7927]],\n",
       "\n",
       "        [[-0.8880]],\n",
       "\n",
       "        [[-2.6001]],\n",
       "\n",
       "        [[ 0.2720]],\n",
       "\n",
       "        [[-2.6267]],\n",
       "\n",
       "        [[ 0.8737]],\n",
       "\n",
       "        [[ 2.8862]],\n",
       "\n",
       "        [[-0.1407]],\n",
       "\n",
       "        [[ 2.8194]],\n",
       "\n",
       "        [[ 0.7722]],\n",
       "\n",
       "        [[-6.1921]]])"
      ]
     },
     "execution_count": 60,
     "metadata": {},
     "output_type": "execute_result"
    }
   ],
   "source": [
    "c = th.randn((32,30, 1))\n",
    "d = th.mean(c,1, True)\n",
    "d * 10"
   ]
  },
  {
   "cell_type": "code",
   "execution_count": 63,
   "metadata": {},
   "outputs": [
    {
     "data": {
      "text/plain": [
       "tensor(-0.0267)"
      ]
     },
     "execution_count": 63,
     "metadata": {},
     "output_type": "execute_result"
    }
   ],
   "source": [
    "th.mean(c)"
   ]
  },
  {
   "cell_type": "code",
   "execution_count": 64,
   "metadata": {},
   "outputs": [
    {
     "data": {
      "text/plain": [
       "tensor(-0.0267)"
      ]
     },
     "execution_count": 64,
     "metadata": {},
     "output_type": "execute_result"
    }
   ],
   "source": [
    "c.sum() / 32 / 30"
   ]
  },
  {
   "cell_type": "code",
   "execution_count": 62,
   "metadata": {},
   "outputs": [
    {
     "data": {
      "text/plain": [
       "tensor([[[-3.7337]],\n",
       "\n",
       "        [[ 1.0963]],\n",
       "\n",
       "        [[ 0.9674]],\n",
       "\n",
       "        [[ 3.3269]],\n",
       "\n",
       "        [[-1.0490]],\n",
       "\n",
       "        [[ 2.6757]],\n",
       "\n",
       "        [[-2.0014]],\n",
       "\n",
       "        [[ 0.0713]],\n",
       "\n",
       "        [[-2.2090]],\n",
       "\n",
       "        [[-2.0173]],\n",
       "\n",
       "        [[ 3.2781]],\n",
       "\n",
       "        [[ 0.1343]],\n",
       "\n",
       "        [[-0.9378]],\n",
       "\n",
       "        [[-0.1153]],\n",
       "\n",
       "        [[-0.8183]],\n",
       "\n",
       "        [[-2.6410]],\n",
       "\n",
       "        [[ 0.8053]],\n",
       "\n",
       "        [[ 4.0464]],\n",
       "\n",
       "        [[ 0.0970]],\n",
       "\n",
       "        [[-0.3055]],\n",
       "\n",
       "        [[-1.5841]],\n",
       "\n",
       "        [[-2.7927]],\n",
       "\n",
       "        [[-0.8880]],\n",
       "\n",
       "        [[-2.6001]],\n",
       "\n",
       "        [[ 0.2720]],\n",
       "\n",
       "        [[-2.6267]],\n",
       "\n",
       "        [[ 0.8737]],\n",
       "\n",
       "        [[ 2.8862]],\n",
       "\n",
       "        [[-0.1407]],\n",
       "\n",
       "        [[ 2.8194]],\n",
       "\n",
       "        [[ 0.7722]],\n",
       "\n",
       "        [[-6.1921]]])"
      ]
     },
     "execution_count": 62,
     "metadata": {},
     "output_type": "execute_result"
    }
   ],
   "source": [
    "e = d.multiply(10)\n",
    "e"
   ]
  },
  {
   "cell_type": "code",
   "execution_count": 19,
   "metadata": {},
   "outputs": [
    {
     "data": {
      "text/plain": [
       "torch.Size([2, 1])"
      ]
     },
     "execution_count": 19,
     "metadata": {},
     "output_type": "execute_result"
    }
   ],
   "source": [
    "b = th.tensor([[2.], [5.]])\n",
    "b.shape"
   ]
  },
  {
   "cell_type": "code",
   "execution_count": 18,
   "metadata": {},
   "outputs": [
    {
     "data": {
      "text/plain": [
       "tensor(2.5000)"
      ]
     },
     "execution_count": 18,
     "metadata": {},
     "output_type": "execute_result"
    }
   ],
   "source": [
    "c = F.mse_loss(a, b)\n",
    "c"
   ]
  },
  {
   "cell_type": "code",
   "execution_count": 21,
   "metadata": {},
   "outputs": [
    {
     "data": {
      "text/plain": [
       "tensor(5.)"
      ]
     },
     "execution_count": 21,
     "metadata": {},
     "output_type": "execute_result"
    }
   ],
   "source": [
    "d = (a - b) ** 2\n",
    "d.sum()"
   ]
  },
  {
   "cell_type": "code",
   "execution_count": 28,
   "metadata": {},
   "outputs": [],
   "source": [
    "a1 = th.randn((2,3,1))\n",
    "b1 = th.randn((2,3,1))\n",
    "\n",
    "c1 = (F.mse_loss(a1, b1))\n",
    "c2 = ((a1 - b1) ** 2).sum()"
   ]
  },
  {
   "cell_type": "code",
   "execution_count": 35,
   "metadata": {},
   "outputs": [
    {
     "data": {
      "text/plain": [
       "tensor([[[0.],\n",
       "         [0.],\n",
       "         [0.]],\n",
       "\n",
       "        [[0.],\n",
       "         [0.],\n",
       "         [0.]]])"
      ]
     },
     "execution_count": 35,
     "metadata": {},
     "output_type": "execute_result"
    }
   ],
   "source": [
    "# a1[:, 1:] = a1[:, :-1]\n",
    "# a1"
   ]
  },
  {
   "cell_type": "code",
   "execution_count": 32,
   "metadata": {},
   "outputs": [],
   "source": [
    "a1[:, 0] = 0"
   ]
  },
  {
   "cell_type": "code",
   "execution_count": 33,
   "metadata": {},
   "outputs": [
    {
     "data": {
      "text/plain": [
       "tensor([[[ 0.0000],\n",
       "         [-1.0212],\n",
       "         [-0.9089]],\n",
       "\n",
       "        [[ 0.0000],\n",
       "         [ 0.3320],\n",
       "         [-1.4326]]])"
      ]
     },
     "execution_count": 33,
     "metadata": {},
     "output_type": "execute_result"
    }
   ],
   "source": [
    "a1"
   ]
  },
  {
   "cell_type": "code",
   "execution_count": 30,
   "metadata": {},
   "outputs": [
    {
     "data": {
      "text/plain": [
       "tensor(1.3761)"
      ]
     },
     "execution_count": 30,
     "metadata": {},
     "output_type": "execute_result"
    }
   ],
   "source": [
    "a2 = a1.reshape(6,1)\n",
    "b2 = b1.reshape(6,1)\n",
    "\n",
    "c3 = F.mse_loss(a2, b2)\n",
    "c3"
   ]
  },
  {
   "cell_type": "code",
   "execution_count": 24,
   "metadata": {},
   "outputs": [
    {
     "data": {
      "text/plain": [
       "tensor(9.4873)"
      ]
     },
     "execution_count": 24,
     "metadata": {},
     "output_type": "execute_result"
    }
   ],
   "source": [
    "c2"
   ]
  },
  {
   "cell_type": "code",
   "execution_count": 100,
   "metadata": {},
   "outputs": [
    {
     "data": {
      "text/plain": [
       "tensor([[ 2.2996, 10.1026],\n",
       "        [ 5.9469, 11.9811]])"
      ]
     },
     "execution_count": 100,
     "metadata": {},
     "output_type": "execute_result"
    }
   ],
   "source": [
    "b ** 2"
   ]
  },
  {
   "cell_type": "code",
   "execution_count": 99,
   "metadata": {},
   "outputs": [
    {
     "data": {
      "text/plain": [
       "tensor(30.3303)"
      ]
     },
     "execution_count": 99,
     "metadata": {},
     "output_type": "execute_result"
    }
   ],
   "source": [
    "(b ** 2).sum()"
   ]
  },
  {
   "cell_type": "code",
   "execution_count": 84,
   "metadata": {},
   "outputs": [
    {
     "data": {
      "text/plain": [
       "tensor([[-0.4422],\n",
       "        [ 1.0000]])"
      ]
     },
     "execution_count": 84,
     "metadata": {},
     "output_type": "execute_result"
    }
   ],
   "source": [
    "c / 2"
   ]
  },
  {
   "cell_type": "code",
   "execution_count": 18,
   "metadata": {},
   "outputs": [
    {
     "data": {
      "text/plain": [
       "tensor([-0.7967,  1.8744, -0.2290, -0.7707, -1.8532, -0.3989])"
      ]
     },
     "execution_count": 18,
     "metadata": {},
     "output_type": "execute_result"
    }
   ],
   "source": [
    "a = g.reshape((-1,))\n",
    "a"
   ]
  },
  {
   "cell_type": "code",
   "execution_count": 20,
   "metadata": {},
   "outputs": [],
   "source": [
    "import numpy.matlib"
   ]
  },
  {
   "cell_type": "code",
   "execution_count": 35,
   "metadata": {},
   "outputs": [],
   "source": [
    "a = np.matlib.ones((2,2))\n",
    "b = np.array([[1,2],[2,1]])"
   ]
  },
  {
   "cell_type": "code",
   "execution_count": 51,
   "metadata": {},
   "outputs": [
    {
     "name": "stdout",
     "output_type": "stream",
     "text": [
      "[0.5]\n"
     ]
    }
   ],
   "source": [
    "a = np.array([[2, 3]])\n",
    "print(np.std(a, axis=1))"
   ]
  },
  {
   "cell_type": "code",
   "execution_count": 54,
   "metadata": {},
   "outputs": [
    {
     "data": {
      "text/plain": [
       "5.0"
      ]
     },
     "execution_count": 54,
     "metadata": {},
     "output_type": "execute_result"
    }
   ],
   "source": [
    "np.linalg.norm([3,4])"
   ]
  },
  {
   "cell_type": "code",
   "execution_count": 95,
   "metadata": {},
   "outputs": [
    {
     "data": {
      "text/plain": [
       "5"
      ]
     },
     "execution_count": 95,
     "metadata": {},
     "output_type": "execute_result"
    }
   ],
   "source": [
    "l = []\n",
    "l.append(2)\n",
    "l[0] += 3\n",
    "sum(l)"
   ]
  },
  {
   "cell_type": "code",
   "execution_count": 13,
   "metadata": {},
   "outputs": [
    {
     "ename": "SyntaxError",
     "evalue": "invalid syntax (2806840858.py, line 2)",
     "output_type": "error",
     "traceback": [
      "\u001b[1;36m  Cell \u001b[1;32mIn[13], line 2\u001b[1;36m\u001b[0m\n\u001b[1;33m    [-0.0163, -0.7975,  0.4944, -0.7929, -0.2515]]],grad_fn=<ViewBackward0>)\u001b[0m\n\u001b[1;37m                                                            ^\u001b[0m\n\u001b[1;31mSyntaxError\u001b[0m\u001b[1;31m:\u001b[0m invalid syntax\n"
     ]
    }
   ],
   "source": [
    "out = th.tensor([[[ 3.3945,  1.3915,  4.4290,  1.3794,  3.4985],\n",
    "         [-0.0163, -0.7975,  0.4944, -0.7929, -0.2515]]])\n",
    "out"
   ]
  },
  {
   "cell_type": "code",
   "execution_count": 7,
   "metadata": {},
   "outputs": [
    {
     "data": {
      "text/plain": [
       "torch.Size([1, 2, 5])"
      ]
     },
     "execution_count": 7,
     "metadata": {},
     "output_type": "execute_result"
    }
   ],
   "source": [
    "out.shape"
   ]
  },
  {
   "cell_type": "code",
   "execution_count": 10,
   "metadata": {},
   "outputs": [
    {
     "data": {
      "text/plain": [
       "tensor([[2, 2]])"
      ]
     },
     "execution_count": 10,
     "metadata": {},
     "output_type": "execute_result"
    }
   ],
   "source": [
    "out.max(dim=2)[1]"
   ]
  },
  {
   "cell_type": "code",
   "execution_count": 5,
   "metadata": {},
   "outputs": [],
   "source": [
    "random_numbers = th.rand_like(out[:, :, 0])"
   ]
  },
  {
   "cell_type": "code",
   "execution_count": 6,
   "metadata": {},
   "outputs": [
    {
     "data": {
      "text/plain": [
       "tensor([[0.1386, 0.5706]])"
      ]
     },
     "execution_count": 6,
     "metadata": {},
     "output_type": "execute_result"
    }
   ],
   "source": [
    "random_numbers"
   ]
  },
  {
   "cell_type": "code",
   "execution_count": 9,
   "metadata": {},
   "outputs": [
    {
     "data": {
      "text/plain": [
       "tensor([[0, 0]])"
      ]
     },
     "execution_count": 9,
     "metadata": {},
     "output_type": "execute_result"
    }
   ],
   "source": [
    "pick_random = (random_numbers < 0).long()\n",
    "pick_random"
   ]
  },
  {
   "cell_type": "code",
   "execution_count": 12,
   "metadata": {},
   "outputs": [
    {
     "data": {
      "text/plain": [
       "tensor([[2, 2]])"
      ]
     },
     "execution_count": 12,
     "metadata": {},
     "output_type": "execute_result"
    }
   ],
   "source": [
    "picked_action = (1 - pick_random) * out.max(dim=2)[1]\n",
    "picked_action"
   ]
  },
  {
   "cell_type": "code",
   "execution_count": 104,
   "metadata": {},
   "outputs": [],
   "source": [
    "o = th.tensor([[[[0., 0., 1., 0., 0., 0., 0., 0., 0., 0., 0., 1., 0., 0., 0., 0., 0.,\n",
    "          0., 0., 0., 0., 0., 0., 0., 0., 0., 0., 0., 0., 0., 0., 0., 0., 0.,\n",
    "          0., 0., 0., 0., 0., 0., 0., 0., 0., 0., 0., 0.],\n",
    "         [0., 0., 0., 0., 0., 0., 0., 0., 1., 0., 0., 0., 0., 0., 0., 0., 0.,\n",
    "          0., 0., 0., 0., 1., 0., 0., 0., 0., 0., 0., 0., 0., 0., 0., 0., 0.,\n",
    "          0., 0., 0., 0., 0., 0., 0., 0., 0., 0., 0., 0.]],\n",
    "          [[0., 1., 0., 0., 0., 0., 0., 0., 0., 0., 0., 0., 1., 0., 0., 0., 0.,\n",
    "          0., 0., 0., 0., 0., 0., 0., 0., 0., 0., 0., 0., 0., 0., 0., 0., 0.,\n",
    "          0., 0., 0., 0., 0., 0., 0., 0., 0., 0., 0., 0.],\n",
    "         [0., 0., 0., 0., 0., 0., 0., 1., 0., 0., 0., 0., 0., 0., 0., 0., 0.,\n",
    "          0., 0., 0., 0., 0., 1., 0., 0., 0., 0., 0., 0., 0., 0., 0., 0., 0.,\n",
    "          0., 0., 0., 0., 0., 0., 0., 0., 0., 0., 0., 0.]]\n",
    "          ],\n",
    "          [[[0., 1., 0., 0., 0., 0., 0., 0., 0., 0., 0., 1., 0., 0., 0., 0., 0.,\n",
    "          0., 0., 0., 0., 0., 0., 0., 0., 0., 0., 0., 0., 0., 0., 0., 0., 0.,\n",
    "          0., 0., 0., 0., 0., 0., 0., 0., 0., 0., 0., 0.],\n",
    "         [0., 0., 0., 0., 0., 0., 0., 0., 1., 0., 0., 0., 0., 0., 0., 0., 0.,\n",
    "          0., 0., 0., 0., 1., 0., 0., 0., 0., 0., 0., 0., 0., 0., 0., 0., 0.,\n",
    "          0., 0., 0., 0., 0., 0., 0., 0., 0., 0., 0., 0.]],\n",
    "          [[0., 1., 0., 0., 0., 0., 0., 0., 0., 0., 0., 0., 1., 0., 0., 0., 0.,\n",
    "          0., 0., 0., 0., 0., 0., 0., 0., 0., 0., 0., 0., 0., 0., 0., 0., 0.,\n",
    "          0., 0., 0., 0., 0., 0., 0., 0., 0., 0., 0., 0.],\n",
    "         [0., 0., 0., 0., 0., 0., 0., 1., 0., 0., 0., 0., 0., 0., 0., 0., 0.,\n",
    "          0., 0., 0., 0., 0., 1., 0., 0., 0., 0., 0., 0., 0., 0., 0., 0., 0.,\n",
    "          0., 0., 0., 0., 0., 0., 0., 0., 0., 0., 0., 0.]]\n",
    "          ]\n",
    "          ])"
   ]
  },
  {
   "cell_type": "code",
   "execution_count": 96,
   "metadata": {},
   "outputs": [
    {
     "data": {
      "text/plain": [
       "torch.Size([2, 2, 2, 46])"
      ]
     },
     "execution_count": 96,
     "metadata": {},
     "output_type": "execute_result"
    }
   ],
   "source": [
    "o.shape"
   ]
  },
  {
   "cell_type": "code",
   "execution_count": 98,
   "metadata": {},
   "outputs": [
    {
     "name": "stdout",
     "output_type": "stream",
     "text": [
      "tensor([[2, 1],\n",
      "        [2, 1]]) tensor([[0, 1],\n",
      "        [0, 1]]) tensor([[8, 7],\n",
      "        [8, 7]]) tensor([[10, 11],\n",
      "        [10, 11]])\n"
     ]
    }
   ],
   "source": [
    "print(th.max(o[:,:,0,:11], -1)[1], th.max(o[:,:,0,11:23], -1)[1], th.max(o[:,:,1,:11], -1)[1], th.max(o[:,:,1,11:23], -1)[1])"
   ]
  },
  {
   "cell_type": "code",
   "execution_count": 99,
   "metadata": {},
   "outputs": [
    {
     "data": {
      "text/plain": [
       "tensor([[[ 2,  1,  2,  1],\n",
       "         [ 0,  1,  0,  1]],\n",
       "\n",
       "        [[ 8,  7,  8,  7],\n",
       "         [10, 11, 10, 11]]])"
      ]
     },
     "execution_count": 99,
     "metadata": {},
     "output_type": "execute_result"
    }
   ],
   "source": [
    "c= th.cat([th.max(o[:,:,0,:11], -1)[1], th.max(o[:,:,0,11:23], -1)[1], th.max(o[:,:,1,:11], -1)[1], th.max(o[:,:,1,11:23], -1)[1]], dim=0)\n",
    "c.reshape(2,2,-1)"
   ]
  },
  {
   "cell_type": "code",
   "execution_count": 105,
   "metadata": {},
   "outputs": [],
   "source": [
    "a1 = th.max(o[:,:,0,:11], -1)[1].reshape(2,2,-1)\n",
    "a2 = th.max(o[:,:,0,11:23], -1)[1].reshape(2,2,-1)\n",
    "a3 = th.max(o[:,:,1,:11], -1)[1].reshape(2,2,-1)\n",
    "a4 = th.max(o[:,:,1,11:23], -1)[1].reshape(2,2,-1)"
   ]
  },
  {
   "cell_type": "code",
   "execution_count": 106,
   "metadata": {},
   "outputs": [
    {
     "data": {
      "text/plain": [
       "tensor([[[ 2,  0,  8, 10],\n",
       "         [ 1,  1,  7, 11]],\n",
       "\n",
       "        [[ 1,  0,  8, 10],\n",
       "         [ 1,  1,  7, 11]]])"
      ]
     },
     "execution_count": 106,
     "metadata": {},
     "output_type": "execute_result"
    }
   ],
   "source": [
    "th.cat([a1, a2, a3, a4], dim=-1)"
   ]
  }
 ],
 "metadata": {
  "kernelspec": {
   "display_name": "emc",
   "language": "python",
   "name": "python3"
  },
  "language_info": {
   "codemirror_mode": {
    "name": "ipython",
    "version": 3
   },
   "file_extension": ".py",
   "mimetype": "text/x-python",
   "name": "python",
   "nbconvert_exporter": "python",
   "pygments_lexer": "ipython3",
   "version": "3.7.16"
  },
  "orig_nbformat": 4
 },
 "nbformat": 4,
 "nbformat_minor": 2
}
