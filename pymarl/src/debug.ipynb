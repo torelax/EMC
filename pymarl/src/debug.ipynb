{
 "cells": [
  {
   "cell_type": "code",
   "execution_count": 11,
   "metadata": {},
   "outputs": [
    {
     "name": "stderr",
     "output_type": "stream",
     "text": [
      "[DEBUG 00:40:49] git.cmd Popen(['git', 'diff', '--cached', '--abbrev=40', '--full-index', '--raw'], cwd=/home/hellone/Project/ReinforcementLearning/EpisodicCuriosity/EMC, universal_newlines=False, shell=None, istream=None)\n",
      "[DEBUG 00:40:49] git.cmd Popen(['git', 'diff', '--abbrev=40', '--full-index', '--raw'], cwd=/home/hellone/Project/ReinforcementLearning/EpisodicCuriosity/EMC, universal_newlines=False, shell=None, istream=None)\n",
      "[DEBUG 00:40:49] git.cmd Popen(['git', 'cat-file', '--batch-check'], cwd=/home/hellone/Project/ReinforcementLearning/EpisodicCuriosity/EMC, universal_newlines=False, shell=None, istream=<valid stream>)\n",
      "[DEBUG 00:40:49] git.cmd Popen(['git', 'diff', '--cached', '--abbrev=40', '--full-index', '--raw'], cwd=/home/hellone/Project/ReinforcementLearning/EpisodicCuriosity/EMC, universal_newlines=False, shell=None, istream=None)\n",
      "[DEBUG 00:40:49] git.cmd Popen(['git', 'diff', '--abbrev=40', '--full-index', '--raw'], cwd=/home/hellone/Project/ReinforcementLearning/EpisodicCuriosity/EMC, universal_newlines=False, shell=None, istream=None)\n",
      "[DEBUG 00:40:49] git.cmd Popen(['git', 'cat-file', '--batch-check'], cwd=/home/hellone/Project/ReinforcementLearning/EpisodicCuriosity/EMC, universal_newlines=False, shell=None, istream=<valid stream>)\n"
     ]
    }
   ],
   "source": [
    "from unittest.util import _count_diff_hashable\n",
    "import numpy as np\n",
    "import os\n",
    "import collections\n",
    "from os.path import dirname, abspath\n",
    "from copy import deepcopy\n",
    "from sacred import Experiment, SETTINGS\n",
    "from sacred.observers import FileStorageObserver\n",
    "from sacred.utils import apply_backspaces_and_linefeeds\n",
    "import sys\n",
    "import torch as th\n",
    "from utils.logging import get_logger\n",
    "import yaml\n",
    "\n",
    "from run import run\n",
    "\n",
    "SETTINGS['CAPTURE_MODE'] = \"fd\" # set to \"no\" if you want to see stdout/stderr in console\n",
    "logger = get_logger()\n",
    "\n",
    "ex = Experiment('pymarl', interactive=True)\n",
    "ex.logger = logger\n",
    "ex.captured_out_filter = apply_backspaces_and_linefeeds\n",
    "\n",
    "results_path = os.path.join(dirname(dirname(abspath('/home/hellone/Project/ReinforcementLearning/EpisodicCuriosity/EMC/pymarl/src/'))), \"results_debug\")"
   ]
  },
  {
   "cell_type": "code",
   "execution_count": null,
   "metadata": {},
   "outputs": [],
   "source": [
    "__file__ = '/home/hellone/Project/ReinforcementLearning/EpisodicCuriosity/EMC/pymarl/src/'"
   ]
  },
  {
   "cell_type": "code",
   "execution_count": 12,
   "metadata": {},
   "outputs": [
    {
     "data": {
      "text/plain": [
       "'/home/hellone/Project/ReinforcementLearning/EpisodicCuriosity/EMC/results_debug'"
      ]
     },
     "execution_count": 12,
     "metadata": {},
     "output_type": "execute_result"
    }
   ],
   "source": [
    "results_path"
   ]
  },
  {
   "cell_type": "code",
   "execution_count": 8,
   "metadata": {},
   "outputs": [],
   "source": [
    "argvs = ['debug.py', '--config=EMC_toygame', '--env-config=gridworld_reversed', 'with', 'env_args.map_name=reversed']\n",
    "params = deepcopy(argvs)"
   ]
  },
  {
   "cell_type": "code",
   "execution_count": 9,
   "metadata": {},
   "outputs": [],
   "source": [
    "def _get_config_env(params, arg_name, subfolder):\n",
    "    config_name = None\n",
    "    for _i, _v in enumerate(params):\n",
    "        if _v.split(\"=\")[0] == arg_name:\n",
    "            config_name = _v.split(\"=\")[1]\n",
    "            del params[_i]\n",
    "            break\n",
    "\n",
    "    if config_name is not None:\n",
    "        with open(os.path.join(os.path.dirname(__file__), \"config\", subfolder, \"{}.yaml\".format(config_name)), \"r\") as f:\n",
    "            try:\n",
    "                config_dict = yaml.load(f)\n",
    "            except yaml.YAMLError as exc:\n",
    "                assert False, \"{}.yaml error: {}\".format(config_name, exc)\n",
    "        return config_dict\n",
    "\n",
    "def _get_config_alg(params, arg_name, subfolder,map_name):\n",
    "    config_name = None\n",
    "    for _i, _v in enumerate(params):\n",
    "        if _v.split(\"=\")[0] == arg_name:\n",
    "            config_name = _v.split(\"=\")[1]\n",
    "            del params[_i]\n",
    "            break\n",
    "\n",
    "    if map_name==\"3s5z_vs_3s6z\":\n",
    "        config_name=\"EMC_sc2_3s5z_vs_3s6z\"\n",
    "    elif map_name==\"6h_vs_8z\":\n",
    "        config_name=\"EMC_sc2_6h_vs_8z\"\n",
    "    elif map_name==\"corridor\":\n",
    "        config_name=\"EMC_sc2_corridor\"\n",
    "    elif map_name==\"origin\":\n",
    "        config_name=\"EMC_toygame\"\n",
    "    elif map_name==\"reversed\":\n",
    "        config_name=\"EMC_toygame\"\n",
    "\n",
    "\n",
    "    \n",
    "\n",
    "    if config_name is not None:\n",
    "        with open(os.path.join(os.path.dirname(__file__), \"config\", subfolder, \"{}.yaml\".format(config_name)), \"r\") as f:\n",
    "            try:\n",
    "                config_dict = yaml.load(f)\n",
    "            except yaml.YAMLError as exc:\n",
    "                assert False, \"{}.yaml error: {}\".format(config_name, exc)\n",
    "        return config_dict\n",
    "\n",
    "\n",
    "def recursive_dict_update(d, u):\n",
    "    for k, v in u.items():\n",
    "        if isinstance(v, collections.Mapping):\n",
    "            d[k] = recursive_dict_update(d.get(k, {}), v)\n",
    "        else:\n",
    "            d[k] = v\n",
    "    return d\n",
    "\n",
    "\n",
    "def config_copy(config):\n",
    "    if isinstance(config, dict):\n",
    "        return {k: config_copy(v) for k, v in config.items()}\n",
    "    elif isinstance(config, list):\n",
    "        return [config_copy(v) for v in config]\n",
    "    else:\n",
    "        return deepcopy(config)"
   ]
  },
  {
   "cell_type": "code",
   "execution_count": 10,
   "metadata": {},
   "outputs": [
    {
     "ename": "NameError",
     "evalue": "name '__file__' is not defined",
     "output_type": "error",
     "traceback": [
      "\u001b[0;31m---------------------------------------------------------------------------\u001b[0m",
      "\u001b[0;31mNameError\u001b[0m                                 Traceback (most recent call last)",
      "\u001b[0;32m/tmp/ipykernel_56408/1568515994.py\u001b[0m in \u001b[0;36m<module>\u001b[0;34m\u001b[0m\n\u001b[0;32m----> 1\u001b[0;31m \u001b[0;32mwith\u001b[0m \u001b[0mopen\u001b[0m\u001b[0;34m(\u001b[0m\u001b[0mos\u001b[0m\u001b[0;34m.\u001b[0m\u001b[0mpath\u001b[0m\u001b[0;34m.\u001b[0m\u001b[0mjoin\u001b[0m\u001b[0;34m(\u001b[0m\u001b[0mos\u001b[0m\u001b[0;34m.\u001b[0m\u001b[0mpath\u001b[0m\u001b[0;34m.\u001b[0m\u001b[0mdirname\u001b[0m\u001b[0;34m(\u001b[0m\u001b[0m__file__\u001b[0m\u001b[0;34m)\u001b[0m\u001b[0;34m,\u001b[0m \u001b[0;34m\"config\"\u001b[0m\u001b[0;34m,\u001b[0m \u001b[0;34m\"default.yaml\"\u001b[0m\u001b[0;34m)\u001b[0m\u001b[0;34m,\u001b[0m \u001b[0;34m\"r\"\u001b[0m\u001b[0;34m)\u001b[0m \u001b[0;32mas\u001b[0m \u001b[0mf\u001b[0m\u001b[0;34m:\u001b[0m\u001b[0;34m\u001b[0m\u001b[0m\n\u001b[0m\u001b[1;32m      2\u001b[0m     \u001b[0;32mtry\u001b[0m\u001b[0;34m:\u001b[0m\u001b[0;34m\u001b[0m\u001b[0m\n\u001b[1;32m      3\u001b[0m         \u001b[0mconfig_dict\u001b[0m \u001b[0;34m=\u001b[0m \u001b[0myaml\u001b[0m\u001b[0;34m.\u001b[0m\u001b[0mload\u001b[0m\u001b[0;34m(\u001b[0m\u001b[0mf\u001b[0m\u001b[0;34m)\u001b[0m\u001b[0;34m\u001b[0m\u001b[0m\n\u001b[1;32m      4\u001b[0m     \u001b[0;32mexcept\u001b[0m \u001b[0myaml\u001b[0m\u001b[0;34m.\u001b[0m\u001b[0mYAMLError\u001b[0m \u001b[0;32mas\u001b[0m \u001b[0mexc\u001b[0m\u001b[0;34m:\u001b[0m\u001b[0;34m\u001b[0m\u001b[0m\n\u001b[1;32m      5\u001b[0m         \u001b[0;32massert\u001b[0m \u001b[0;32mFalse\u001b[0m\u001b[0;34m,\u001b[0m \u001b[0;34m\"default.yaml error: {}\"\u001b[0m\u001b[0;34m.\u001b[0m\u001b[0mformat\u001b[0m\u001b[0;34m(\u001b[0m\u001b[0mexc\u001b[0m\u001b[0;34m)\u001b[0m\u001b[0;34m\u001b[0m\u001b[0m\n",
      "\u001b[0;31mNameError\u001b[0m: name '__file__' is not defined"
     ]
    }
   ],
   "source": [
    "with open(os.path.join(os.path.dirname(__file__), \"config\", \"default.yaml\"), \"r\") as f:\n",
    "    try:\n",
    "        config_dict = yaml.load(f)\n",
    "    except yaml.YAMLError as exc:\n",
    "        assert False, \"default.yaml error: {}\".format(exc)\n",
    "\n",
    "env_config= _get_config_env(params, \"--env-config\", \"envs\")\n",
    "config_dict = recursive_dict_update(config_dict, env_config)\n",
    "map_name=\"3m\"\n",
    "for _i, _v in enumerate(params):\n",
    "    if _v.split(\"=\")[0] == \"env_args.map_name\":\n",
    "        map_name = _v.split(\"=\")[1]\n",
    "\n",
    "print(\"Map Name:\",map_name)\n",
    "alg_config = _get_config_alg(params, \"--config\", \"algs\",map_name)\n",
    "# config_dict = {**config_dict, **env_config, **alg_config}\n",
    "\n",
    "config_dict = recursive_dict_update(config_dict, alg_config)"
   ]
  }
 ],
 "metadata": {
  "kernelspec": {
   "display_name": "emc",
   "language": "python",
   "name": "python3"
  },
  "language_info": {
   "codemirror_mode": {
    "name": "ipython",
    "version": 3
   },
   "file_extension": ".py",
   "mimetype": "text/x-python",
   "name": "python",
   "nbconvert_exporter": "python",
   "pygments_lexer": "ipython3",
   "version": "3.7.0"
  },
  "orig_nbformat": 4
 },
 "nbformat": 4,
 "nbformat_minor": 2
}
